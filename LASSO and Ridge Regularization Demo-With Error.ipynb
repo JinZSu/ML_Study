{
 "cells": [
  {
   "cell_type": "markdown",
   "metadata": {},
   "source": [
    "# Ridge & Lasso Regression Programming Assignment "
   ]
  },
  {
   "cell_type": "code",
   "execution_count": 65,
   "metadata": {
    "collapsed": true
   },
   "outputs": [],
   "source": [
    "# Run the code cell below\n",
    "import numpy as np\n",
    "import pandas as pd\n",
    "import matplotlib.pyplot as plt\n",
    "import sklearn.preprocessing\n",
    "from sklearn import linear_model\n",
    "import sklearn.model_selection\n",
    "% matplotlib inline"
   ]
  },
  {
   "cell_type": "markdown",
   "metadata": {},
   "source": [
    "# Data Import\n",
    "Import the data from the file College.csv"
   ]
  },
  {
   "cell_type": "code",
   "execution_count": 69,
   "metadata": {
    "collapsed": true
   },
   "outputs": [],
   "source": [
    "df = pd.read_csv(\"College.csv\")\n",
    "\n",
    "# Convert df into a numpy array using df.values\n",
    "data = np.array(df.values)\n",
    "# Below code drops first 2 columns and selects the rest of the columns\n",
    "data1 = data[:,2:19]\n",
    "# Store Values of all Rows of Columns 0:16 in X and Values of last column in Y from data1 \n",
    "X = data1[:,:16]\n",
    "Y = data1[:,-1]\n"
   ]
  },
  {
   "cell_type": "markdown",
   "metadata": {},
   "source": [
    "# Splitting Data Into Training And Test Set.\n",
    "Take first 390 rows as training set and the remaining rows as test set."
   ]
  },
  {
   "cell_type": "code",
   "execution_count": 70,
   "metadata": {
    "collapsed": true
   },
   "outputs": [],
   "source": [
    "X_tr = X[:390]\n",
    "Y_tr = Y[:390]\n",
    "X_test = X[390:]\n",
    "Y_test = Y[390:]\n",
    "\n",
    "scalar = sklearn.preprocessing.StandardScaler().fit(X_tr)\n",
    "X_trs = scalar.transform(X_tr)\n",
    "X_tests = scalar.transform(X_test)"
   ]
  },
  {
   "cell_type": "markdown",
   "metadata": {},
   "source": [
    "# Fitting Linear Model\n",
    "In the below code cell, fit a linear model and print the testset error. You can use sklearn's linear_model to find the fit."
   ]
  },
  {
   "cell_type": "code",
   "execution_count": 71,
   "metadata": {
    "collapsed": true
   },
   "outputs": [
    {
     "data": {
      "text/plain": [
       "0.3551767664294183"
      ]
     },
     "execution_count": 71,
     "metadata": {},
     "output_type": "execute_result"
    }
   ],
   "source": [
    "# Linear Model\n",
    "regr = linear_model.LinearRegression()\n",
    "regr.fit(X_tr,Y_tr)\n",
    "regr.score(X_test,Y_test)"
   ]
  },
  {
   "cell_type": "markdown",
   "metadata": {},
   "source": [
    "# Ridge Regression\n",
    "In the below code cell, fit a ridge model using linear_model.ridge(warm_start=True, fit_intercept = True). The alphas variable contaings 100 values of regularization parameter. Fit 100 models with these 100 different values of alphas and find test errors for all these 100 models and plot test error v/s alpha.\n",
    "Note: In lecture, we used the letter lambda for regularization but in sklearn, they use alpha. So, in this programming assignment, we prefer to use alpha for the regularization parameter. "
   ]
  },
  {
   "cell_type": "code",
   "execution_count": 72,
   "metadata": {
    "collapsed": true
   },
   "outputs": [],
   "source": [
    "# Ridge Model\n",
    "ridge = linear_model.Ridge(fit_intercept = True)\n",
    "# The code below \n",
    "nalpha = 100\n",
    "alphas = np.logspace(-3,1,nalpha)\n",
    "# Write code for finding costs for all the 100 models. YOu may use a for loop for this. \n",
    "R_2=[]\n",
    "\n",
    "for a in alphas:\n",
    "    ridge.set_params(alpha = a) # set the hyperparmeter alpha\n",
    "    R_2.append(ridge.fit(X_trs, Y_tr).score(X_tests,Y_test)) # we are also keeping track of the error for each model produced\n",
    "\n",
    "    "
   ]
  },
  {
   "cell_type": "markdown",
   "metadata": {},
   "source": [
    "# Plotting Test Error v/s Alphas\n",
    "Write code to plot test errors v/s alphas in the code cell below."
   ]
  },
  {
   "cell_type": "code",
   "execution_count": 73,
   "metadata": {
    "collapsed": true
   },
   "outputs": [
    {
     "data": {
      "text/plain": [
       "Text(0.5,1,'Plotting Test Error v/s Alphas')"
      ]
     },
     "execution_count": 73,
     "metadata": {},
     "output_type": "execute_result"
    },
    {
     "data": {
      "image/png": "[encoded data removed]",
      "text/plain": [
       "<Figure size 432x288 with 1 Axes>"
      ]
     },
     "metadata": {},
     "output_type": "display_data"
    }
   ],
   "source": [
    "\n",
    "# Write the code below\n",
    "ax = plt.gca()\n",
    "ax.plot(alphas, R_2, '-bo') # The change of MSE is plotted as the black curve below\n",
    "plt.xlabel('alpha')\n",
    "plt.ylabel('R_2')\n",
    "plt.title(\"Plotting Test Error v/s Alphas\")"
   ]
  },
  {
   "cell_type": "markdown",
   "metadata": {},
   "source": [
    "# Lasso Regression\n",
    "In the below code cell, fit a lasso model using linear_model.Lasso(warm_start=True, fit_intercept = True). The alphas variable contaings 100 values of regularization parameter. Fit 100 models with these 100 different values of alphas and find test errors for all these 100 models and plot test error v/s alpha.\n",
    "Note: In lecture, we used the letter lambda for regularization but in sklearn, they use alpha. So, in this programming assignment, we prefer to use alpha for the regularization parameter. "
   ]
  },
  {
   "cell_type": "code",
   "execution_count": 77,
   "metadata": {
    "collapsed": true
   },
   "outputs": [],
   "source": [
    "# Lasso Model\n",
    "lasso = linear_model.Lasso(warm_start=True,fit_intercept = True)\n",
    "# The code below \n",
    "nalpha = 100\n",
    "alphas = np.logspace(-3,1,nalpha)\n",
    "# Write code for finding costs for all the 100 models. YOu may use a for loop for this. \n",
    "R_2=[]\n",
    "coff=[]\n",
    "\n",
    "for a in alphas:\n",
    "    lasso.set_params(alpha=a) # Our instance now uses a different alph\n",
    "    R_2.append(lasso.fit(X_trs,Y_tr).score(X_tests,Y_test))\n",
    "    coff.append(lasso.coef_)"
   ]
  },
  {
   "cell_type": "markdown",
   "metadata": {},
   "source": [
    "## Plotting Test Error v/s Alphas\n",
    "Write code to plot test errors v/s alphas in the code cell below."
   ]
  },
  {
   "cell_type": "code",
   "execution_count": 78,
   "metadata": {
    "collapsed": true
   },
   "outputs": [
    {
     "data": {
      "text/plain": [
       "Text(0.5,1,'Plotting Test Error v/s Alphas')"
      ]
     },
     "execution_count": 78,
     "metadata": {},
     "output_type": "execute_result"
    },
    {
     "data": {
      "image/png": "[encoded data removed]",
      "text/plain": [
       "<Figure size 432x288 with 1 Axes>"
      ]
     },
     "metadata": {},
     "output_type": "display_data"
    }
   ],
   "source": [
    "# Write the code below\n",
    "ax = plt.gca()\n",
    "ax.plot(alphas, R_2, '-bo') # The change of MSE is plotted as the black curve below\n",
    "plt.xlabel('alpha')\n",
    "plt.ylabel('R_2')\n",
    "plt.title(\"Plotting Test Error v/s Alphas\")"
   ]
  },
  {
   "cell_type": "markdown",
   "metadata": {},
   "source": [
    "# Number of Non-Zero Coefficients:\n",
    "Find the number of Non-Zero Coefficients in the model you select."
   ]
  },
  {
   "cell_type": "code",
   "execution_count": 79,
   "metadata": {
    "collapsed": true
   },
   "outputs": [],
   "source": [
    "# Write the code below"
   ]
  },
  {
   "cell_type": "code",
   "execution_count": 81,
   "metadata": {
    "collapsed": true
   },
   "outputs": [
    {
     "name": "stdout",
     "output_type": "stream",
     "text": [
      "('There are ', 15, 'coefficents')\n"
     ]
    }
   ],
   "source": [
    "\n",
    "coff = coeffs[np.argmax(R_2)]\n",
    "zeroes=np.count_nonzero(coff)\n",
    "\n",
    "print(\"There are \",zeroes,\"coefficents\")"
   ]
  },
  {
   "cell_type": "code",
   "execution_count": null,
   "metadata": {},
   "outputs": [],
   "source": []
  }
 ],
 "metadata": {
  "kernelspec": {
   "display_name": "Python 2",
   "language": "python",
   "name": "python2"
  },
  "language_info": {
   "codemirror_mode": {
    "name": "ipython",
    "version": 2
   },
   "file_extension": ".py",
   "mimetype": "text/x-python",
   "name": "python",
   "nbconvert_exporter": "python",
   "pygments_lexer": "ipython2",
   "version": "2.7.15"
  }
 },
 "nbformat": 4,
 "nbformat_minor": 2
}
