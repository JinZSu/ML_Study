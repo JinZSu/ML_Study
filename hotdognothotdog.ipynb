{
 "cells": [
  {
   "cell_type": "code",
   "execution_count": 54,
   "metadata": {},
   "outputs": [],
   "source": [
    "import pandas as pd\n",
    "import numpy as np\n",
    "import os\n",
    "import PIL\n",
    "from keras.preprocessing.image import load_img,img_to_array\n",
    "from keras import Model,Sequential\n",
    "from keras.layers import Dense, Conv2D, MaxPooling2D, Dropout, Flatten\n",
    "#conda install -c anaconda keras\n"
   ]
  },
  {
   "cell_type": "code",
   "execution_count": 134,
   "metadata": {},
   "outputs": [],
   "source": [
    "import os\n",
    "\n",
    "hot_dog_image_dir = 'train/hot_dog/'\n",
    "hot_dog_paths = [''.join(hot_dog_image_dir+filename) for filename in \n",
    "                            os.listdir(hot_dog_image_dir)]\n",
    "\n",
    "not_hot_dog_image_dir = 'train/not_hot_dog/'\n",
    "not_hot_dog_paths = [''.join(not_hot_dog_image_dir+filename) for filename in\n",
    "                            os.listdir(not_hot_dog_image_dir)]\n",
    "\n",
    "image_paths_train = hot_dog_paths + not_hot_dog_paths\n",
    "y_dog=np.ones((len(hot_dog_paths),1),dtype=int)\n",
    "y_not=np.zeros((len(not_hot_dog_paths),1),dtype=int)\n",
    "y_train=np.concatenate((y_dog, y_not), axis=0)\n",
    "# print(image_paths_train)\n",
    "# print(y_train)\n",
    "\n",
    "###############################################################################################################\n",
    "hot_dog_image_dir_test = 'test/hot_dog/'\n",
    "hot_dog_paths_test = [''.join(hot_dog_image_dir_test+filename) for filename in \n",
    "                            os.listdir(hot_dog_image_dir_test)]\n",
    "\n",
    "not_hot_dog_image_dir_test = 'test/not_hot_dog/'\n",
    "not_hot_dog_paths_test = [''.join(not_hot_dog_image_dir_test+filename) for filename in\n",
    "                            os.listdir(not_hot_dog_image_dir_test)]\n",
    "\n",
    "image_paths_test = hot_dog_paths_test + not_hot_dog_paths_test\n",
    "y_dog_test=np.ones((len(hot_dog_paths_test),1),dtype=int)\n",
    "y_dog_not=np.zeros((len(not_hot_dog_paths_test),1),dtype=int)\n",
    "y_test=np.concatenate((y_dog_test, y_dog_not), axis=0)\n",
    "# print(image_paths_test)\n",
    "# print(y_test)\n",
    "# print(y_test.shape)"
   ]
  },
  {
   "cell_type": "code",
   "execution_count": 135,
   "metadata": {},
   "outputs": [],
   "source": [
    "def loadpath(image_paths,xsize=16,ysize=16):\n",
    "    X=[]\n",
    "    for location in image_paths:\n",
    "        img=load_img(location,target_size=(xsize,ysize))\n",
    "        sx=img_to_array(img) #(512, 382, 3)\n",
    "#         print(x.shape)\n",
    "#         sx=sx.reshape((1,)+sx.shape) #(1, 512, 382, 3)\n",
    "#         print(sx.shape)\n",
    "#         print(sx)\n",
    "        X.append(sx)\n",
    "        input_shape=sx.shape   \n",
    "    return input_shape,np.array(X)"
   ]
  },
  {
   "cell_type": "code",
   "execution_count": 136,
   "metadata": {},
   "outputs": [
    {
     "name": "stdout",
     "output_type": "stream",
     "text": [
      "(498, 16, 16, 3)\n",
      "(500, 16, 16, 3)\n",
      "(498, 1)\n",
      "(500, 1)\n"
     ]
    }
   ],
   "source": [
    "input_shape,x_train=loadpath(image_paths_train)\n",
    "input_shape,x_test=loadpath(image_paths_test)\n",
    "\n",
    "# from keras.utils import to_categorical\n",
    "# y_train = to_categorical(y_train)\n",
    "# y_test = to_categorical(y_test)\n",
    "\n",
    "# y_train=y_train.transpose()\n",
    "# y_test=y_test.transpose()\n",
    "\n",
    "# y_train=np.matrix(y_train)\n",
    "# y_test=np.matrix(y_test)\n",
    "\n",
    "print(x_train.shape)\n",
    "print(x_test.shape)\n",
    "print(y_train.shape)\n",
    "print(y_test.shape)"
   ]
  },
  {
   "cell_type": "code",
   "execution_count": 58,
   "metadata": {},
   "outputs": [],
   "source": [
    "# from keras.preprocessing.image import ImageDataGenerator\n",
    "\n",
    "# def weirdfilters(x,num_gen,ImageDataGenerator(\n",
    "#             rotation_range=40,\n",
    "#             width_shift_range=0.2,\n",
    "#             height_shift_range=0.2,\n",
    "#             rescale=1./255,\n",
    "#             shear_range=0.2,\n",
    "#             zoom_range=0.2,\n",
    "#             horizontal_flip=True,\n",
    "#             fill_mode='nearest')\n",
    "                 \n",
    "                 \n",
    "#     datagen = ImageDataGenerator(\n",
    "#             rotation_range=40,\n",
    "#             width_shift_range=0.2,\n",
    "#             height_shift_range=0.2,\n",
    "#             rescale=1./255,\n",
    "#             shear_range=0.2,\n",
    "#             zoom_range=0.2,\n",
    "#             horizontal_flip=True,\n",
    "#             fill_mode='nearest')\n",
    "#     count=0\n",
    "#     while(count!=x):\n",
    "#         count+=1\n",
    "#         datagen.flow(x,batch_size=1,save_to_dir'preview',save_prefix='cat',save_format='jpeg')\n",
    "        \n",
    "    \n",
    "        \n",
    "#     return datagen"
   ]
  },
  {
   "cell_type": "code",
   "execution_count": 139,
   "metadata": {
    "scrolled": true
   },
   "outputs": [
    {
     "name": "stdout",
     "output_type": "stream",
     "text": [
      "_________________________________________________________________\n",
      "Layer (type)                 Output Shape              Param #   \n",
      "=================================================================\n",
      "conv2d_15 (Conv2D)           (None, 14, 14, 32)        896       \n",
      "_________________________________________________________________\n",
      "conv2d_16 (Conv2D)           (None, 12, 12, 64)        18496     \n",
      "_________________________________________________________________\n",
      "max_pooling2d_8 (MaxPooling2 (None, 4, 4, 64)          0         \n",
      "_________________________________________________________________\n",
      "flatten_8 (Flatten)          (None, 1024)              0         \n",
      "_________________________________________________________________\n",
      "dense_13 (Dense)             (None, 128)               131200    \n",
      "_________________________________________________________________\n",
      "dense_14 (Dense)             (None, 1)                 129       \n",
      "=================================================================\n",
      "Total params: 150,721\n",
      "Trainable params: 150,721\n",
      "Non-trainable params: 0\n",
      "_________________________________________________________________\n"
     ]
    }
   ],
   "source": [
    "from keras import Model,Sequential\n",
    "from keras.layers import Dense, Conv2D, MaxPooling2D, Dropout, Flatten\n",
    "# Basic model1\n",
    "\n",
    "M1 = Sequential()\n",
    "\n",
    "M1.add(Conv2D(32, kernel_size=(3, 3),activation='relu',input_shape=input_shape))\n",
    "\n",
    "M1.add(Conv2D(64, (3, 3), activation='relu'))\n",
    "\n",
    "M1.add(MaxPooling2D(pool_size=(3, 3)))\n",
    "\n",
    "M1.add(Flatten())\n",
    "\n",
    "M1.add(Dense(128, activation='relu'))\n",
    "\n",
    "M1.add(Dense(1, activation='sigmoid'))\n",
    "\n",
    "M1.summary()\n"
   ]
  },
  {
   "cell_type": "code",
   "execution_count": 140,
   "metadata": {},
   "outputs": [],
   "source": [
    "class LossHistory(keras.callbacks.Callback):\n",
    "    def on_train_begin(self, logs={}):\n",
    "        self.loss = []\n",
    "        self.val_acc = []\n",
    "        self.acc = []\n",
    "        \n",
    "    def on_batch_end(self, batch, logs={}):\n",
    "        self.loss.append(logs.get('loss'))\n",
    "        \n",
    "    def on_epoch_end(self, epoch, logs):\n",
    "        self.val_acc.append(logs.get('val_acc'))\n",
    "        self.acc.append(logs.get('acc'))\n",
    "\n",
    "history_cb = LossHistory()"
   ]
  },
  {
   "cell_type": "code",
   "execution_count": 142,
   "metadata": {},
   "outputs": [
    {
     "name": "stdout",
     "output_type": "stream",
     "text": [
      "Train on 498 samples, validate on 500 samples\n",
      "Epoch 1/1\n",
      "498/498 [==============================] - 3s 6ms/step - loss: 0.5092 - acc: 0.4880 - val_loss: 0.4963 - val_acc: 0.4980\n",
      "('Test loss:', 0.4963350520502165)\n",
      "('Test accuracy:', 0.4979999995231628)\n"
     ]
    }
   ],
   "source": [
    "import keras\n",
    "batch_size=12\n",
    "epochs=1\n",
    "M1.compile(loss='mean_squared_error',optimizer=keras.optimizers.Adadelta(lr=0.01),metrics=['accuracy'])\n",
    "\n",
    "M1.fit(x_train, y_train,batch_size=batch_size,epochs=epochs,verbose=1,validation_data=(x_test, y_test),callbacks=[history_cb])\n",
    "\n",
    "score = M1.evaluate(x_test, y_test, verbose=0)\n",
    "\n",
    "print('Test loss:', score[0])\n",
    "print('Test accuracy:', score[1])"
   ]
  },
  {
   "cell_type": "code",
   "execution_count": 1,
   "metadata": {},
   "outputs": [
    {
     "ename": "NameError",
     "evalue": "name 'M1' is not defined",
     "output_type": "error",
     "traceback": [
      "\u001b[0;31m---------------------------------------------------------------------------\u001b[0m",
      "\u001b[0;31mNameError\u001b[0m                                 Traceback (most recent call last)",
      "\u001b[0;32m<ipython-input-1-7f1305550768>\u001b[0m in \u001b[0;36m<module>\u001b[0;34m()\u001b[0m\n\u001b[0;32m----> 1\u001b[0;31m \u001b[0mM1\u001b[0m\u001b[0;34m.\u001b[0m\u001b[0msave\u001b[0m\u001b[0;34m(\u001b[0m\u001b[0;34m'Skynet_M1'\u001b[0m\u001b[0;34m)\u001b[0m\u001b[0;34m\u001b[0m\u001b[0m\n\u001b[0m\u001b[1;32m      2\u001b[0m \u001b[0mmodel\u001b[0m \u001b[0;34m=\u001b[0m \u001b[0mkeras\u001b[0m\u001b[0;34m.\u001b[0m\u001b[0mmodels\u001b[0m\u001b[0;34m.\u001b[0m\u001b[0mload_model\u001b[0m\u001b[0;34m(\u001b[0m\u001b[0;34m''\u001b[0m\u001b[0;34m)\u001b[0m\u001b[0;34m\u001b[0m\u001b[0m\n",
      "\u001b[0;31mNameError\u001b[0m: name 'M1' is not defined"
     ]
    }
   ],
   "source": [
    "M1.save('Skynet_M1')\n",
    "model = keras.models.load_model('')"
   ]
  },
  {
   "cell_type": "code",
   "execution_count": null,
   "metadata": {},
   "outputs": [],
   "source": [
    "import matplotlib.pyplot as plt\n",
    "%matplotlib inline\n",
    "\n",
    "model1Hist = history_cb\n",
    "xVal = np.arange(1, 21, 1)\n",
    "xValLoss = np.arange(1, 187, 1)\n",
    "plt.plot(xVal, model1Hist.acc)\n",
    "plt.plot(xVal, model1Hist.val_acc)\n",
    "plt.title('Model 1 (without Batch Normalization)')\n",
    "plt.legend((\"Training\", \"Testing\"), loc=\"best\")\n",
    "plt.xlabel('Epoch')\n",
    "plt.ylabel('Accuracy')"
   ]
  },
  {
   "cell_type": "code",
   "execution_count": null,
   "metadata": {},
   "outputs": [],
   "source": []
  }
 ],
 "metadata": {
  "kernelspec": {
   "display_name": "Python 2",
   "language": "python",
   "name": "python2"
  },
  "language_info": {
   "codemirror_mode": {
    "name": "ipython",
    "version": 2
   },
   "file_extension": ".py",
   "mimetype": "text/x-python",
   "name": "python",
   "nbconvert_exporter": "python",
   "pygments_lexer": "ipython2",
   "version": "2.7.15"
  }
 },
 "nbformat": 4,
 "nbformat_minor": 2
}
