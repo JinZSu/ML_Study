{
 "cells": [
  {
   "cell_type": "markdown",
   "metadata": {},
   "source": [
    "# Programming Assignment : SVM\n",
    "In this programming assignment, you would use Support Vector Machines and Logistic Regression\n",
    "for classification problem. We are using Logistic Regression to compare performance of both the algorithms on the same dataset with different values of parameters like type of kernel used, type of regularization techniques used (ridge/lasso) etc."
   ]
  },
  {
   "cell_type": "markdown",
   "metadata": {},
   "source": [
    "Do the assignment carefully, by understanding the structure of the code."
   ]
  },
  {
   "cell_type": "markdown",
   "metadata": {},
   "source": [
    "# Instructions :\n",
    "You have to write a small report in a pdf file. You can use bullet points to discuss your results for every function of the assignment.<br>\n",
    "For example, for data1.csv dataset, write which method gave you the best accuracy using which value of the parameter.<br>\n",
    "Do not write explainations, just discuss your results / observations point to point. \n"
   ]
  },
  {
   "cell_type": "code",
   "execution_count": 39,
   "metadata": {
    "collapsed": true
   },
   "outputs": [],
   "source": [
    "# Importing the libraries to be used:\n",
    "import numpy as np\n",
    "import pandas as pd\n",
    "from sklearn import linear_model\n",
    "from sklearn import preprocessing\n",
    "from sklearn import svm\n",
    "import matplotlib.pyplot as plt\n",
    "%matplotlib inline "
   ]
  },
  {
   "cell_type": "markdown",
   "metadata": {},
   "source": [
    "# Importing the dataset:\n",
    "The dataset we are using for this assignment is taken from UCI Machine Learning Repository. The dataset consists of Attributes/Factors that contribute to prediction of Diabetic Retinopathy(DR) in a diabetic patient. Given some predictors, we need to predict the value of target variable i.e. DR or Non-DR case. The dataset is given in the file data1.csv  "
   ]
  },
  {
   "cell_type": "code",
   "execution_count": 40,
   "metadata": {
    "collapsed": true
   },
   "outputs": [],
   "source": [
    "# Read the file into a pandas data frame.\n",
    "df = pd.read_csv(\"data1.csv\")"
   ]
  },
  {
   "cell_type": "code",
   "execution_count": 41,
   "metadata": {
    "collapsed": true
   },
   "outputs": [],
   "source": [
    "# There can be some columns which may have missing values. So, we are removing those columns from our dataset.\n",
    "df1 = df.dropna(axis = 1)"
   ]
  },
  {
   "cell_type": "code",
   "execution_count": 42,
   "metadata": {
    "collapsed": true
   },
   "outputs": [],
   "source": [
    "# Converting the df1 data frame into a numpy array named df2. Use values method of dataframes.\n",
    "df2 = df1.values"
   ]
  },
  {
   "cell_type": "code",
   "execution_count": 43,
   "metadata": {
    "collapsed": true
   },
   "outputs": [],
   "source": [
    "# Select all rows and first 19 columns as X from df2.\n",
    "X = preprocessing.scale(df2[:,:19])\n",
    "# Select all rows and last column as Y from df2.\n",
    "Y = df2[:,19:]"
   ]
  },
  {
   "cell_type": "code",
   "execution_count": 44,
   "metadata": {
    "collapsed": true
   },
   "outputs": [],
   "source": [
    "# Splitting the dataset into training and test data.\n",
    "# Select first 600 rows as training dataset and the remaining rows as test dataset.\n",
    "X_train = X[:600]\n",
    "Y_train = Y[:600]\n",
    "X_test = X[600:]\n",
    "Y_test = Y[600:]"
   ]
  },
  {
   "cell_type": "markdown",
   "metadata": {},
   "source": [
    "# Logistic Regression\n",
    "First we will fit the dataset using a logistic regression model."
   ]
  },
  {
   "cell_type": "markdown",
   "metadata": {},
   "source": [
    "# Logistic Regression with Lasso(L1) Regularization.\n",
    "Read the comments in the below cell carefully.\n",
    "Try different values of parameter C."
   ]
  },
  {
   "cell_type": "code",
   "execution_count": 9,
   "metadata": {
    "collapsed": true
   },
   "outputs": [],
   "source": [
    "# Initialize an empty list to store values of training set accuracy.\n",
    "acc_train_logreg = [] "
   ]
  },
  {
   "cell_type": "code",
   "execution_count": 10,
   "metadata": {
    "collapsed": true
   },
   "outputs": [],
   "source": [
    "# Initialize an empty list to store values of test set accuracy.\n",
    "acc_test_logreg = []"
   ]
  },
  {
   "cell_type": "code",
   "execution_count": 11,
   "metadata": {
    "collapsed": true
   },
   "outputs": [],
   "source": [
    "# Initialize an empty list to store different values of parameter 'c'.\n",
    "c_logreg = []"
   ]
  },
  {
   "cell_type": "code",
   "execution_count": 12,
   "metadata": {
    "collapsed": true
   },
   "outputs": [],
   "source": [
    "# Complete the function logreg that accepts 'c' as a parameter, which is used to create logreg model \n",
    "# with different values of C.\n",
    "def logreg_model(c , X_train, Y_train, X_test, Y_test):\n",
    "    # Create an object of logistic regression model using linear_model.\n",
    "    # Pass the value of penalty as 'L1'. By default, it is 'L2'.\n",
    "    # Pass the value of C = c. Note that C is the inverse of lambda. So, small value of C i.e. b/w 0 and 1 \n",
    "    # means stronger regularization and large value means less regularization.\n",
    "    # Also, in sklearn, L1 is only supported with solver = 'saga'. Solver is the type of optimization algorithm like GDA or\n",
    "    # SGDA, which is to be used. So, 'saga' is another algorithm like that. Pass the value of solver as 'saga'\n",
    "\n",
    "    logreg = linear_model.LogisticRegression(penalty='l1', C=c)\n",
    "    \n",
    "    # Fit the model on the training set.\n",
    "    logreg.fit(X=X_train, y=np.ravel(Y_train))\n",
    "    \n",
    "    # Find the prediction on training set.\n",
    "    Yhat_train = logreg.predict(X_train)\n",
    "    acc_train = np.mean(Yhat_train == Y_train)\n",
    "    acc_train_logreg.append(acc_train)\n",
    "    print(\"Accuracy on training data = %f\" % acc_train)\n",
    "    \n",
    "    # Find the prediction on test set.\n",
    "    Yhat_test = logreg.predict(X_test)\n",
    "    acc_test = np.mean(Yhat_test == Y_test)\n",
    "    acc_test_logreg.append(acc_test)\n",
    "    print(\"Accuracy on test data = %f\" % acc_test)\n",
    "    \n",
    "    c_logreg.append(c)"
   ]
  },
  {
   "cell_type": "code",
   "execution_count": 13,
   "metadata": {
    "collapsed": true
   },
   "outputs": [
    {
     "name": "stdout",
     "output_type": "stream",
     "text": [
      "Accuracy on training data = 0.456667\n",
      "Accuracy on test data = 0.482759\n",
      "Accuracy on training data = 0.456667\n",
      "Accuracy on test data = 0.482759\n",
      "Accuracy on training data = 0.456667\n",
      "Accuracy on test data = 0.482759\n",
      "Accuracy on training data = 0.456667\n",
      "Accuracy on test data = 0.482759\n",
      "Accuracy on training data = 0.456667\n",
      "Accuracy on test data = 0.482759\n",
      "Accuracy on training data = 0.497833\n",
      "Accuracy on test data = 0.499093\n",
      "Accuracy on training data = 0.496533\n",
      "Accuracy on test data = 0.498216\n",
      "Accuracy on training data = 0.498122\n",
      "Accuracy on test data = 0.498529\n"
     ]
    },
    {
     "data": {
      "image/png": "[encoded data removed]",
      "text/plain": [
       "<Figure size 432x288 with 1 Axes>"
      ]
     },
     "metadata": {},
     "output_type": "display_data"
    },
    {
     "data": {
      "image/png": "[encoded data removed]",
      "text/plain": [
       "<Figure size 432x288 with 1 Axes>"
      ]
     },
     "metadata": {},
     "output_type": "display_data"
    }
   ],
   "source": [
    "# Call the above function i.e. logreg_model with different values of parameter 'c'.\n",
    "# Start with smaller values of 'c' say 0.0001, 0.001, 0.01, 0.1, 1, 10, 100\n",
    "cv = [1e-6, 1e-5, 1e-4, 1e-3, 1e-2, 1e-1, 1e0, 10]\n",
    "for c in cv:\n",
    "    logreg_model(c, X_train, Y_train, X_test, Y_test)\n",
    "# Write code to plot 2 plots.\n",
    "def showGraph (c_values, acc_values,c,p) :\n",
    "    print(p)\n",
    "    fig = plt.figure()\n",
    "    ax1 = fig.add_subplot(111)\n",
    "    ax1.scatter(c_values, acc_values[:len(c_values)], s=10, c=c)\n",
    "    plt.show()\n",
    "# Plot training accuracy(Y-axis) v/s 'c' on X - Axis.\n",
    "# Plot test accuracy(Y-Axis) v/s 'c' on X - Axis.\n",
    "showGraph(c_logreg, acc_train_logreg,\"b\",\"Trainning\")\n",
    "showGraph(c_logreg, acc_test_logreg,\"b\",\"Not Trainning\")"
   ]
  },
  {
   "cell_type": "markdown",
   "metadata": {},
   "source": [
    "# Logistic Regression with Ridge(L2) Regularization."
   ]
  },
  {
   "cell_type": "code",
   "execution_count": 14,
   "metadata": {
    "collapsed": true
   },
   "outputs": [],
   "source": [
    "# Initialize an empty list to store values of training set accuracy.\n",
    "acc_train_logreg2 = []"
   ]
  },
  {
   "cell_type": "code",
   "execution_count": 15,
   "metadata": {
    "collapsed": true
   },
   "outputs": [],
   "source": [
    "# Initialize an empty list to store values of test set accuracy.\n",
    "acc_test_logreg2 = []"
   ]
  },
  {
   "cell_type": "code",
   "execution_count": 16,
   "metadata": {
    "collapsed": true
   },
   "outputs": [],
   "source": [
    "# Initialize an empty list to store different values of parameter 'c'.\n",
    "c_logreg2 = []"
   ]
  },
  {
   "cell_type": "code",
   "execution_count": 17,
   "metadata": {
    "collapsed": true
   },
   "outputs": [],
   "source": [
    "def logreg2_model(c , X_train, Y_train, X_test, Y_test):\n",
    "    # Create an object of logistic regression model using linear_model.\n",
    "    # Pass the value of C=c.\n",
    "    # You need not pass other parameters as penalty is 'L2' by default.\n",
    "    \n",
    "    logreg2 = linear_model.LogisticRegression(penalty='l2', C=c)\n",
    "    \n",
    "    # Fit the model on the training set.\n",
    "    logreg2.fit(X=X_train, y=np.ravel(Y_train))\n",
    "    \n",
    "    # Find the prediction on training set.\n",
    "    Yhat_train = logreg2.predict(X_train)\n",
    "    acc_train = np.mean(Yhat_train == Y_train)\n",
    "    acc_train_logreg2.append(acc_train)\n",
    "    print(\"Accuracy on training data = %f\" % acc_train)\n",
    "    \n",
    "    # Find the prediction and accuracy on test set.\n",
    "    Yhat_test = logreg2.predict(X_test)\n",
    "    acc_test = np.mean(Yhat_test == Y_test)\n",
    "    acc_test_logreg2.append(acc_test)\n",
    "    print(\"Accuracy on test data = %f\" % acc_test)\n",
    "    \n",
    "    c_logreg2.append(c)\n",
    "    "
   ]
  },
  {
   "cell_type": "code",
   "execution_count": 18,
   "metadata": {
    "collapsed": true
   },
   "outputs": [
    {
     "name": "stdout",
     "output_type": "stream",
     "text": [
      "Accuracy on training data = 0.456667\n",
      "Accuracy on test data = 0.482759\n",
      "Accuracy on training data = 0.456667\n",
      "Accuracy on test data = 0.482759\n",
      "Accuracy on training data = 0.456667\n",
      "Accuracy on test data = 0.482759\n",
      "Accuracy on training data = 0.456667\n",
      "Accuracy on test data = 0.482759\n",
      "Accuracy on training data = 0.456667\n",
      "Accuracy on test data = 0.482759\n",
      "Accuracy on training data = 0.497833\n",
      "Accuracy on test data = 0.499093\n",
      "Accuracy on training data = 0.496678\n",
      "Accuracy on test data = 0.498154\n",
      "Accuracy on training data = 0.498267\n",
      "Accuracy on test data = 0.498592\n"
     ]
    },
    {
     "data": {
      "image/png": "[encoded data removed]",
      "text/plain": [
       "<Figure size 432x288 with 1 Axes>"
      ]
     },
     "metadata": {},
     "output_type": "display_data"
    },
    {
     "data": {
      "image/png": "[encoded data removed]",
      "text/plain": [
       "<Figure size 432x288 with 1 Axes>"
      ]
     },
     "metadata": {},
     "output_type": "display_data"
    }
   ],
   "source": [
    "# Call the above function i.e. logreg2_model with different values of parameter 'c'.\n",
    "# Start with smaller values of 'c' say 0.0001, 0.001, 0.01, 0.1, 1, 10, 100\n",
    "cv = [1e-6, 1e-5, 1e-4, 1e-3, 1e-2, 1e-1, 1e0, 10]\n",
    "for c in cv:\n",
    "    logreg_model(c, X_train, Y_train, X_test, Y_test)\n",
    "# Write code to plot 2 plots.\n",
    "# Plot training accuracy(Y-axis) v/s 'c' on X - Axis.\n",
    "# Plot test accuracy(Y-Axis) v/s 'c' on X - Axis.\n",
    "showGraph(c_logreg, acc_train_logreg,\"b\",\"Trainning\")\n",
    "showGraph(c_logreg, acc_test_logreg,\"b\",\"Not Trainning\")"
   ]
  },
  {
   "cell_type": "markdown",
   "metadata": {},
   "source": [
    "# Logistic Regression Using Polynomial Feature Transformation\n",
    "Refer the given link to know how we can transform features.<br>\n",
    "http://scikit-learn.org/stable/modules/generated/sklearn.preprocessing.PolynomialFeatures.html"
   ]
  },
  {
   "cell_type": "code",
   "execution_count": 19,
   "metadata": {
    "collapsed": true
   },
   "outputs": [],
   "source": [
    "from sklearn.preprocessing import PolynomialFeatures"
   ]
  },
  {
   "cell_type": "code",
   "execution_count": 20,
   "metadata": {
    "collapsed": true
   },
   "outputs": [],
   "source": [
    "# Create an object of PolynomialFeatures(2):\n",
    "from sklearn.preprocessing import PolynomialFeatures\n",
    "poly = PolynomialFeatures(2)"
   ]
  },
  {
   "cell_type": "code",
   "execution_count": 21,
   "metadata": {
    "collapsed": true
   },
   "outputs": [],
   "source": [
    "# Create the transformed data matrices for training and test using poly.fit_transform(..)\n",
    "X_transformed_train = poly.fit_transform(X=X_train)\n",
    "X_transformed_test = poly.fit_transform(X=X_test)"
   ]
  },
  {
   "cell_type": "code",
   "execution_count": 22,
   "metadata": {
    "collapsed": true
   },
   "outputs": [
    {
     "data": {
      "text/plain": [
       "(551, 210)"
      ]
     },
     "execution_count": 22,
     "metadata": {},
     "output_type": "execute_result"
    }
   ],
   "source": [
    "# Check the shapes of the new matrices.\n",
    "# Originally, we had 19 features.\n",
    "X_transformed_train.shape\n",
    "X_transformed_test.shape"
   ]
  },
  {
   "cell_type": "code",
   "execution_count": 23,
   "metadata": {
    "collapsed": true
   },
   "outputs": [
    {
     "name": "stdout",
     "output_type": "stream",
     "text": [
      "Accuracy on training data = 0.456667\n",
      "Accuracy on test data = 0.482759\n",
      "Accuracy on training data = 0.456667\n",
      "Accuracy on test data = 0.482759\n",
      "Accuracy on training data = 0.456667\n",
      "Accuracy on test data = 0.482759\n",
      "Accuracy on training data = 0.456667\n",
      "Accuracy on test data = 0.482759\n",
      "Accuracy on training data = 0.543044\n",
      "Accuracy on test data = 0.517116\n",
      "Accuracy on training data = 0.505344\n",
      "Accuracy on test data = 0.501784\n",
      "Accuracy on training data = 0.498989\n",
      "Accuracy on test data = 0.499468\n",
      "Accuracy on training data = 0.500578\n",
      "Accuracy on test data = 0.499593\n",
      "Accuracy on training data = 0.500722\n",
      "Accuracy on test data = 0.499593\n"
     ]
    },
    {
     "data": {
      "image/png": "[encoded data removed]",
      "text/plain": [
       "<Figure size 432x288 with 1 Axes>"
      ]
     },
     "metadata": {},
     "output_type": "display_data"
    },
    {
     "data": {
      "image/png": "[encoded data removed]",
      "text/plain": [
       "<Figure size 432x288 with 1 Axes>"
      ]
     },
     "metadata": {},
     "output_type": "display_data"
    }
   ],
   "source": [
    "# Calling the logreg_model(..) using transformed features.\n",
    "# Pass c, X_transformed_train , Y_train, X_transformed_test, Y_test\n",
    "# Before calling the function, we need to re-initialize the 3 lists in which we append the \n",
    "# results (accuracy) because these lists are global variables.\n",
    "acc_train_logreg = []\n",
    "acc_test_logreg = []\n",
    "c_logreg = []\n",
    "# Call the function logreg_model.\n",
    "c_values = [0.000001, 0.00001, 0.0001, 0.001, 0.01, 0.1, 1, 10, 100]\n",
    "for c in c_values:\n",
    "    logreg_model(c, X_transformed_train, Y_train, X_transformed_test, Y_test)\n",
    "# Write code to plot 2 plots.\n",
    "# Plot training accuracy(Y-axis) v/s 'c' on X - Axis.\n",
    "# Plot test accuracy(Y-Axis) v/s 'c' on X - Axis.\n",
    "showGraph(c_logreg, acc_train_logreg, \"b\", \"Training\")\n",
    "showGraph(c_logreg, acc_test_logreg, \"r\", \"Test\")"
   ]
  },
  {
   "cell_type": "code",
   "execution_count": 25,
   "metadata": {
    "collapsed": true
   },
   "outputs": [
    {
     "name": "stdout",
     "output_type": "stream",
     "text": [
      "Accuracy on training data = 0.543044\n",
      "Accuracy on test data = 0.517116\n",
      "Accuracy on training data = 0.543044\n",
      "Accuracy on test data = 0.517116\n",
      "Accuracy on training data = 0.543044\n",
      "Accuracy on test data = 0.517116\n",
      "Accuracy on training data = 0.543044\n",
      "Accuracy on test data = 0.517116\n",
      "Accuracy on training data = 0.540733\n",
      "Accuracy on test data = 0.516428\n",
      "Accuracy on training data = 0.516467\n",
      "Accuracy on test data = 0.506290\n",
      "Accuracy on training data = 0.505344\n",
      "Accuracy on test data = 0.501721\n",
      "Accuracy on training data = 0.499856\n",
      "Accuracy on test data = 0.499969\n",
      "Accuracy on training data = 0.499856\n",
      "Accuracy on test data = 0.500094\n",
      "Accuracy on training data = 0.500578\n",
      "Accuracy on test data = 0.499531\n",
      "Accuracy on training data = 0.501733\n",
      "Accuracy on test data = 0.500532\n",
      "Accuracy on training data = 0.502456\n",
      "Accuracy on test data = 0.500031\n"
     ]
    },
    {
     "data": {
      "image/png": "[encoded data removed]",
      "text/plain": [
       "<Figure size 432x288 with 1 Axes>"
      ]
     },
     "metadata": {},
     "output_type": "display_data"
    },
    {
     "data": {
      "image/png": "[encoded data removed]",
      "text/plain": [
       "<Figure size 432x288 with 1 Axes>"
      ]
     },
     "metadata": {},
     "output_type": "display_data"
    }
   ],
   "source": [
    "# Calling the logreg2_model(..) using transformed features.\n",
    "# Pass c, X_transformed_train , Y_train, X_transformed_test, Y_test\n",
    "# Before calling the function, we need to re-initialize the 3 lists in which we append the \n",
    "# results (accuracy) beacause these list are global varibles.\n",
    "acc_train_logreg2 = []\n",
    "acc_test_logreg2 = []\n",
    "c_logreg2 = []\n",
    "# Call the function logreg2_model.\n",
    "c_values = [1e-8, 1e-7, 1e-6, 1e-5, 1e-4, 1e-3, 1e-2, 1e-1, 1e0, 10, 100, 1000]\n",
    "for c in c_values:\n",
    "    logreg2_model(c, X_transformed_train, Y_train, X_transformed_test, Y_test)\n",
    "# Write code to plot 2 plots.\n",
    "# Plot training accuracy(Y-axis) v/s 'c' on X - Axis.\n",
    "# Plot test accuracy(Y-Axis) v/s 'c' on X - Axis.\n",
    "\n",
    "showGraph(c_logreg2, acc_train_logreg2, \"b\", \"Training\")\n",
    "showGraph(c_logreg2, acc_test_logreg2, \"r\", \"Test\")"
   ]
  },
  {
   "cell_type": "markdown",
   "metadata": {},
   "source": [
    "# Note:\n",
    "<u>Do not</u> use these transformed features for the further part of the assignment. Use the X_train, Y_train, X_test and Y_test matrices."
   ]
  },
  {
   "cell_type": "markdown",
   "metadata": {},
   "source": [
    "# Support Vector Machines (SVM)\n",
    "Now we will use the same dataset and try to find a classifier using SVM.\n",
    "For more information about svm classifier, check the given link.\n",
    "http://scikit-learn.org/stable/modules/generated/sklearn.svm.SVC.html"
   ]
  },
  {
   "cell_type": "markdown",
   "metadata": {},
   "source": [
    "# SVM using Linear Kernel."
   ]
  },
  {
   "cell_type": "code",
   "execution_count": 26,
   "metadata": {
    "collapsed": true
   },
   "outputs": [],
   "source": [
    "acc_train_svm_linear = []"
   ]
  },
  {
   "cell_type": "code",
   "execution_count": 27,
   "metadata": {
    "collapsed": true
   },
   "outputs": [],
   "source": [
    "acc_test_svm_linear = []"
   ]
  },
  {
   "cell_type": "code",
   "execution_count": 28,
   "metadata": {
    "collapsed": true
   },
   "outputs": [],
   "source": [
    "c_svm_linear = []"
   ]
  },
  {
   "cell_type": "code",
   "execution_count": 45,
   "metadata": {
    "collapsed": true
   },
   "outputs": [],
   "source": [
    "# Complete the function below:\n",
    "# In this function and next 2 functions, we are not passing the data matrices as parameters \n",
    "# because we can use global variables inside the functions.\n",
    "def svm_linear(c):\n",
    "    # Create an object of svm.SVC(probability = False, kernel = 'linear', C = c).\n",
    "    svc = svm.SVC(probability = False, kernel = 'linear', C = c)\n",
    "    \n",
    "    # Fit the classifier on the training set.\n",
    "    svc.fit(X=X_train, y=np.ravel(Y_train))\n",
    "    \n",
    "    # Find the prediction and accuracy on the training set.\n",
    "    Yhat_svc_linear_train = svc.predict(X_train)\n",
    "    acc_train = np.mean(Yhat_svc_linear_train == Y_train)\n",
    "    acc_train_svm_linear.append(acc_train)\n",
    "    print('Accuracy = {0:f}'.format(acc_train))\n",
    "    \n",
    "    # Find the prediction and accuracy on the test set.\n",
    "    Yhat_svc_linear_test = svc.predict(X_test)\n",
    "    acc_test = np.mean(Yhat_svc_linear_test == Y_test)\n",
    "    acc_test_svm_linear.append(acc_test)\n",
    "    print('Accuracy = {0:f}'.format(acc_test))\n",
    "    \n",
    "    c_svm_linear.append(c)\n",
    "    "
   ]
  },
  {
   "cell_type": "code",
   "execution_count": 30,
   "metadata": {
    "collapsed": true
   },
   "outputs": [
    {
     "name": "stdout",
     "output_type": "stream",
     "text": [
      "Accuracy = 0.543333\n",
      "Accuracy = 0.517241\n",
      "Accuracy = 0.543333\n",
      "Accuracy = 0.517241\n",
      "Accuracy = 0.543333\n",
      "Accuracy = 0.517241\n",
      "Accuracy = 0.543333\n",
      "Accuracy = 0.517241\n",
      "Accuracy = 0.543333\n",
      "Accuracy = 0.517241\n",
      "Accuracy = 0.543044\n",
      "Accuracy = 0.517116\n",
      "Accuracy = 0.498122\n",
      "Accuracy = 0.498592\n",
      "Accuracy = 0.492344\n",
      "Accuracy = 0.496402\n",
      "Accuracy = 0.492200\n",
      "Accuracy = 0.496527\n",
      "Accuracy = 0.495233\n",
      "Accuracy = 0.497653\n",
      "Accuracy = 0.496533\n",
      "Accuracy = 0.497403\n",
      "Accuracy = 0.496389\n",
      "Accuracy = 0.497403\n"
     ]
    },
    {
     "data": {
      "image/png": "[encoded data removed]",
      "text/plain": [
       "<Figure size 432x288 with 1 Axes>"
      ]
     },
     "metadata": {},
     "output_type": "display_data"
    },
    {
     "data": {
      "image/png": "[encoded data removed]",
      "text/plain": [
       "<Figure size 432x288 with 1 Axes>"
      ]
     },
     "metadata": {},
     "output_type": "display_data"
    }
   ],
   "source": [
    "# Call the above function i.e. svm_linear with different values of parameter 'c'.\n",
    "# Start with smaller values of 'c' say 0.0001, 0.001, 0.01, 0.1, 1, 10, 100\n",
    "c_values = [1e-8, 1e-7, 1e-6, 1e-5, 1e-4, 1e-3, 1e-2, 1e-1, 1e0, 10, 100, 1000]\n",
    "for c in c_values:\n",
    "    svm_linear(c)\n",
    "# Write code to plot 2 plots.\n",
    "# Plot training accuracy(Y-axis) v/s 'c' on X - Axis.\n",
    "# Plot test accuracy(Y-Axis) v/s 'c' on X - Axis.\n",
    "showGraph(c_svm_linear, acc_train_svm_linear, \"b\", \"Training\")\n",
    "showGraph(c_svm_linear, acc_test_svm_linear, \"r\", \"Test\")"
   ]
  },
  {
   "cell_type": "markdown",
   "metadata": {},
   "source": [
    "Change the value of parameter C above and see the difference in the results."
   ]
  },
  {
   "cell_type": "markdown",
   "metadata": {},
   "source": [
    "# SVM using Radial Basis Function(RBF) Kernel."
   ]
  },
  {
   "cell_type": "code",
   "execution_count": 46,
   "metadata": {
    "collapsed": true
   },
   "outputs": [],
   "source": [
    "# Complete the function below.\n",
    "# g is the value of gamma. \n",
    "def svm_rbf(c, g):\n",
    "    # Create an object of svm classifier using svm.SVC()\n",
    "    # Pass probability = False, kernel = 'rbf', value of C = c and rbf paramter gamma = g.\n",
    "    svc_rbf = svm.SVC(probability = False, kernel = 'rbf', C = c, gamma = g)\n",
    "    \n",
    "    # Fit the classifier on the training set.\n",
    "    svc_rbf.fit(X=X_train, y=np.ravel(Y_train))\n",
    "    \n",
    "    # Find the prediction and accuracy on the training set.\n",
    "    Yhat_svc_rbf_train = svc_rbf.predict(X_train)\n",
    "    acc = np.mean(Yhat_svc_rbf_train == Y_train)\n",
    "    print('Accuracy = {0:f}'.format(acc))\n",
    "    \n",
    "    # Find the prediction and accuracy on the test set.\n",
    "    Yhat_svc_rbf_test = svc_rbf.predict(X_test)\n",
    "    acc = np.mean(Yhat_svc_rbf_test == Y_test)\n",
    "    print('Accuracy = {0:f}'.format(acc))\n",
    "  "
   ]
  },
  {
   "cell_type": "code",
   "execution_count": 34,
   "metadata": {
    "collapsed": true
   },
   "outputs": [
    {
     "name": "stdout",
     "output_type": "stream",
     "text": [
      "('g', 1e-06)\n",
      "('c', 1e-10)\n",
      "Accuracy = 0.543333\n",
      "Accuracy = 0.517241\n",
      "('c', 1e-07)\n",
      "Accuracy = 0.543333\n",
      "Accuracy = 0.517241\n",
      "('c', 1e-06)\n",
      "Accuracy = 0.543333\n",
      "Accuracy = 0.517241\n",
      "('c', 1e-05)\n",
      "Accuracy = 0.543333\n",
      "Accuracy = 0.517241\n",
      "('c', 0.0001)\n",
      "Accuracy = 0.543333\n",
      "Accuracy = 0.517241\n",
      "('c', 0.001)\n",
      "Accuracy = 0.543333\n",
      "Accuracy = 0.517241\n",
      "('c', 0.01)\n",
      "Accuracy = 0.543333\n",
      "Accuracy = 0.517241\n",
      "('c', 0.1)\n",
      "Accuracy = 0.543333\n",
      "Accuracy = 0.517241\n",
      "('c', 1.0)\n",
      "Accuracy = 0.543333\n",
      "Accuracy = 0.517241\n",
      "('c', 10.0)\n",
      "Accuracy = 0.543333\n",
      "Accuracy = 0.517241\n",
      "('c', 100.0)\n",
      "Accuracy = 0.543333\n",
      "Accuracy = 0.517241\n",
      "('c', 1000.0)\n",
      "Accuracy = 0.505922\n",
      "Accuracy = 0.501346\n",
      "('c', 10000.0)\n",
      "Accuracy = 0.497111\n",
      "Accuracy = 0.498592\n",
      "('c', 100000.0)\n",
      "Accuracy = 0.491911\n",
      "Accuracy = 0.496089\n",
      "('c', 1000000.0)\n",
      "Accuracy = 0.493644\n",
      "Accuracy = 0.496714\n",
      "('g', 1e-05)\n",
      "('c', 1e-10)\n",
      "Accuracy = 0.543333\n",
      "Accuracy = 0.517241\n",
      "('c', 1e-07)\n",
      "Accuracy = 0.543333\n",
      "Accuracy = 0.517241\n",
      "('c', 1e-06)\n",
      "Accuracy = 0.543333\n",
      "Accuracy = 0.517241\n",
      "('c', 1e-05)\n",
      "Accuracy = 0.543333\n",
      "Accuracy = 0.517241\n",
      "('c', 0.0001)\n",
      "Accuracy = 0.543333\n",
      "Accuracy = 0.517241\n",
      "('c', 0.001)\n",
      "Accuracy = 0.543333\n",
      "Accuracy = 0.517241\n",
      "('c', 0.01)\n",
      "Accuracy = 0.543333\n",
      "Accuracy = 0.517241\n",
      "('c', 0.1)\n",
      "Accuracy = 0.543333\n",
      "Accuracy = 0.517241\n",
      "('c', 1.0)\n",
      "Accuracy = 0.543333\n",
      "Accuracy = 0.517241\n",
      "('c', 10.0)\n",
      "Accuracy = 0.543333\n",
      "Accuracy = 0.517241\n",
      "('c', 100.0)\n",
      "Accuracy = 0.505922\n",
      "Accuracy = 0.501346\n",
      "('c', 1000.0)\n",
      "Accuracy = 0.497400\n",
      "Accuracy = 0.498529\n",
      "('c', 10000.0)\n",
      "Accuracy = 0.492344\n",
      "Accuracy = 0.496026\n",
      "('c', 100000.0)\n",
      "Accuracy = 0.492778\n",
      "Accuracy = 0.496527\n",
      "('c', 1000000.0)\n",
      "Accuracy = 0.498122\n",
      "Accuracy = 0.498654\n",
      "('g', 0.0001)\n",
      "('c', 1e-10)\n",
      "Accuracy = 0.543333\n",
      "Accuracy = 0.517241\n",
      "('c', 1e-07)\n",
      "Accuracy = 0.543333\n",
      "Accuracy = 0.517241\n",
      "('c', 1e-06)\n",
      "Accuracy = 0.543333\n",
      "Accuracy = 0.517241\n",
      "('c', 1e-05)\n",
      "Accuracy = 0.543333\n",
      "Accuracy = 0.517241\n",
      "('c', 0.0001)\n",
      "Accuracy = 0.543333\n",
      "Accuracy = 0.517241\n",
      "('c', 0.001)\n",
      "Accuracy = 0.543333\n",
      "Accuracy = 0.517241\n",
      "('c', 0.01)\n",
      "Accuracy = 0.543333\n",
      "Accuracy = 0.517241\n",
      "('c', 0.1)\n",
      "Accuracy = 0.543333\n",
      "Accuracy = 0.517241\n",
      "('c', 1.0)\n",
      "Accuracy = 0.543333\n",
      "Accuracy = 0.517241\n",
      "('c', 10.0)\n",
      "Accuracy = 0.505922\n",
      "Accuracy = 0.501408\n",
      "('c', 100.0)\n",
      "Accuracy = 0.497111\n",
      "Accuracy = 0.498467\n",
      "('c', 1000.0)\n",
      "Accuracy = 0.492056\n",
      "Accuracy = 0.496276\n",
      "('c', 10000.0)\n",
      "Accuracy = 0.493500\n",
      "Accuracy = 0.497090\n",
      "('c', 100000.0)\n",
      "Accuracy = 0.497256\n",
      "Accuracy = 0.498467\n",
      "('c', 1000000.0)\n",
      "Accuracy = 0.495522\n",
      "Accuracy = 0.498342\n",
      "('g', 0.001)\n",
      "('c', 1e-10)\n",
      "Accuracy = 0.543333\n",
      "Accuracy = 0.517241\n",
      "('c', 1e-07)\n",
      "Accuracy = 0.543333\n",
      "Accuracy = 0.517241\n",
      "('c', 1e-06)\n",
      "Accuracy = 0.543333\n",
      "Accuracy = 0.517241\n",
      "('c', 1e-05)\n",
      "Accuracy = 0.543333\n",
      "Accuracy = 0.517241\n",
      "('c', 0.0001)\n",
      "Accuracy = 0.543333\n",
      "Accuracy = 0.517241\n",
      "('c', 0.001)\n",
      "Accuracy = 0.543333\n",
      "Accuracy = 0.517241\n",
      "('c', 0.01)\n",
      "Accuracy = 0.543333\n",
      "Accuracy = 0.517241\n",
      "('c', 0.1)\n",
      "Accuracy = 0.543333\n",
      "Accuracy = 0.517241\n",
      "('c', 1.0)\n",
      "Accuracy = 0.505922\n",
      "Accuracy = 0.501596\n",
      "('c', 10.0)\n",
      "Accuracy = 0.495811\n",
      "Accuracy = 0.498154\n",
      "('c', 100.0)\n",
      "Accuracy = 0.492056\n",
      "Accuracy = 0.496777\n",
      "('c', 1000.0)\n",
      "Accuracy = 0.495956\n",
      "Accuracy = 0.497653\n",
      "('c', 10000.0)\n",
      "Accuracy = 0.497978\n",
      "Accuracy = 0.498967\n",
      "('c', 100000.0)\n",
      "Accuracy = 0.497544\n",
      "Accuracy = 0.499030\n",
      "('c', 1000000.0)\n",
      "Accuracy = 0.500144\n",
      "Accuracy = 0.499718\n",
      "('g', 0.01)\n",
      "('c', 1e-10)\n",
      "Accuracy = 0.543333\n",
      "Accuracy = 0.517241\n",
      "('c', 1e-07)\n",
      "Accuracy = 0.543333\n",
      "Accuracy = 0.517241\n",
      "('c', 1e-06)\n",
      "Accuracy = 0.543333\n",
      "Accuracy = 0.517241\n",
      "('c', 1e-05)\n",
      "Accuracy = 0.543333\n",
      "Accuracy = 0.517241\n",
      "('c', 0.0001)\n",
      "Accuracy = 0.543333\n",
      "Accuracy = 0.517241\n",
      "('c', 0.001)\n",
      "Accuracy = 0.543333\n",
      "Accuracy = 0.517241\n",
      "('c', 0.01)\n",
      "Accuracy = 0.543333\n",
      "Accuracy = 0.517241\n",
      "('c', 0.1)\n",
      "Accuracy = 0.521378\n",
      "Accuracy = 0.508292\n",
      "('c', 1.0)\n",
      "Accuracy = 0.494800\n",
      "Accuracy = 0.497278\n",
      "('c', 10.0)\n",
      "Accuracy = 0.496389\n",
      "Accuracy = 0.498091\n",
      "('c', 100.0)\n",
      "Accuracy = 0.497256\n",
      "Accuracy = 0.498029\n",
      "('c', 1000.0)\n",
      "Accuracy = 0.498700\n",
      "Accuracy = 0.498654\n",
      "('c', 10000.0)\n",
      "Accuracy = 0.502167\n",
      "Accuracy = 0.500219\n",
      "('c', 100000.0)\n",
      "Accuracy = 0.504044\n",
      "Accuracy = 0.502159\n",
      "('c', 1000000.0)\n",
      "Accuracy = 0.504044\n",
      "Accuracy = 0.502660\n",
      "('g', 0.1)\n",
      "('c', 1e-10)\n",
      "Accuracy = 0.543333\n",
      "Accuracy = 0.517241\n",
      "('c', 1e-07)\n",
      "Accuracy = 0.543333\n",
      "Accuracy = 0.517241\n",
      "('c', 1e-06)\n",
      "Accuracy = 0.543333\n",
      "Accuracy = 0.517241\n",
      "('c', 1e-05)\n",
      "Accuracy = 0.543333\n",
      "Accuracy = 0.517241\n",
      "('c', 0.0001)\n",
      "Accuracy = 0.543333\n",
      "Accuracy = 0.517241\n",
      "('c', 0.001)\n",
      "Accuracy = 0.543333\n",
      "Accuracy = 0.517241\n",
      "('c', 0.01)\n",
      "Accuracy = 0.543333\n",
      "Accuracy = 0.517241\n",
      "('c', 0.1)\n",
      "Accuracy = 0.504044\n",
      "Accuracy = 0.501471\n",
      "('c', 1.0)\n",
      "Accuracy = 0.495233\n",
      "Accuracy = 0.498279\n",
      "('c', 10.0)\n",
      "Accuracy = 0.498844\n",
      "Accuracy = 0.499593\n",
      "('c', 100.0)\n",
      "Accuracy = 0.502889\n",
      "Accuracy = 0.501846\n",
      "('c', 1000.0)\n",
      "Accuracy = 0.503178\n",
      "Accuracy = 0.501658\n",
      "('c', 10000.0)\n",
      "Accuracy = 0.503756\n",
      "Accuracy = 0.501095\n",
      "('c', 100000.0)\n",
      "Accuracy = 0.503756\n",
      "Accuracy = 0.501095\n",
      "('c', 1000000.0)\n",
      "Accuracy = 0.503756\n",
      "Accuracy = 0.501095\n",
      "('g', 1.0)\n",
      "('c', 1e-10)\n",
      "Accuracy = 0.543333\n",
      "Accuracy = 0.517241\n",
      "('c', 1e-07)\n",
      "Accuracy = 0.543333\n",
      "Accuracy = 0.517241\n",
      "('c', 1e-06)\n",
      "Accuracy = 0.543333\n",
      "Accuracy = 0.517241\n",
      "('c', 1e-05)\n",
      "Accuracy = 0.543333\n",
      "Accuracy = 0.517241\n",
      "('c', 0.0001)\n",
      "Accuracy = 0.543333\n",
      "Accuracy = 0.517241\n",
      "('c', 0.001)\n",
      "Accuracy = 0.543333\n",
      "Accuracy = 0.517241\n",
      "('c', 0.01)\n",
      "Accuracy = 0.543333\n",
      "Accuracy = 0.517241\n",
      "('c', 0.1)\n",
      "Accuracy = 0.543333\n",
      "Accuracy = 0.517241\n",
      "('c', 1.0)\n",
      "Accuracy = 0.502022\n",
      "Accuracy = 0.505288\n",
      "('c', 10.0)\n",
      "Accuracy = 0.503611\n",
      "Accuracy = 0.505163\n",
      "('c', 100.0)\n",
      "Accuracy = 0.503756\n",
      "Accuracy = 0.505100\n",
      "('c', 1000.0)\n",
      "Accuracy = 0.503756\n",
      "Accuracy = 0.505100\n",
      "('c', 10000.0)\n",
      "Accuracy = 0.503756\n",
      "Accuracy = 0.505100\n",
      "('c', 100000.0)\n",
      "Accuracy = 0.503756\n",
      "Accuracy = 0.505100\n",
      "('c', 1000000.0)\n",
      "Accuracy = 0.503756\n",
      "Accuracy = 0.505100\n",
      "('g', 10.0)\n",
      "('c', 1e-10)\n",
      "Accuracy = 0.543333\n",
      "Accuracy = 0.517241\n",
      "('c', 1e-07)\n",
      "Accuracy = 0.543333\n",
      "Accuracy = 0.517241\n",
      "('c', 1e-06)\n",
      "Accuracy = 0.543333\n",
      "Accuracy = 0.517241\n",
      "('c', 1e-05)\n",
      "Accuracy = 0.543333\n",
      "Accuracy = 0.517241\n",
      "('c', 0.0001)\n",
      "Accuracy = 0.543333\n",
      "Accuracy = 0.517241\n",
      "('c', 0.001)\n",
      "Accuracy = 0.543333\n",
      "Accuracy = 0.517241\n",
      "('c', 0.01)\n",
      "Accuracy = 0.543333\n",
      "Accuracy = 0.517241\n",
      "('c', 0.1)\n",
      "Accuracy = 0.543333\n",
      "Accuracy = 0.517241\n",
      "('c', 1.0)\n",
      "Accuracy = 0.503756\n",
      "Accuracy = 0.516741\n",
      "('c', 10.0)\n",
      "Accuracy = 0.503756\n",
      "Accuracy = 0.516303\n",
      "('c', 100.0)\n",
      "Accuracy = 0.503756\n",
      "Accuracy = 0.516303\n",
      "('c', 1000.0)\n",
      "Accuracy = 0.503756\n",
      "Accuracy = 0.516303\n",
      "('c', 10000.0)\n",
      "Accuracy = 0.503756\n",
      "Accuracy = 0.516303\n",
      "('c', 100000.0)\n",
      "Accuracy = 0.503756\n",
      "Accuracy = 0.516303\n",
      "('c', 1000000.0)\n",
      "Accuracy = 0.503756\n",
      "Accuracy = 0.516303\n",
      "('g', 100.0)\n",
      "('c', 1e-10)\n",
      "Accuracy = 0.543333\n",
      "Accuracy = 0.517241\n",
      "('c', 1e-07)\n",
      "Accuracy = 0.543333\n",
      "Accuracy = 0.517241\n",
      "('c', 1e-06)\n",
      "Accuracy = 0.543333\n",
      "Accuracy = 0.517241\n",
      "('c', 1e-05)\n",
      "Accuracy = 0.543333\n",
      "Accuracy = 0.517241\n",
      "('c', 0.0001)\n",
      "Accuracy = 0.543333\n",
      "Accuracy = 0.517241\n",
      "('c', 0.001)\n",
      "Accuracy = 0.543333\n",
      "Accuracy = 0.517241\n",
      "('c', 0.01)\n",
      "Accuracy = 0.543333\n",
      "Accuracy = 0.517241\n",
      "('c', 0.1)\n",
      "Accuracy = 0.543333\n",
      "Accuracy = 0.517241\n",
      "('c', 1.0)\n",
      "Accuracy = 0.503756\n",
      "Accuracy = 0.517241\n",
      "('c', 10.0)\n",
      "Accuracy = 0.503756\n",
      "Accuracy = 0.517241\n",
      "('c', 100.0)\n",
      "Accuracy = 0.503756\n",
      "Accuracy = 0.517241\n",
      "('c', 1000.0)\n",
      "Accuracy = 0.503756\n",
      "Accuracy = 0.517241\n",
      "('c', 10000.0)\n",
      "Accuracy = 0.503756\n",
      "Accuracy = 0.517241\n",
      "('c', 100000.0)\n",
      "Accuracy = 0.503756\n",
      "Accuracy = 0.517241\n",
      "('c', 1000000.0)\n",
      "Accuracy = 0.503756\n",
      "Accuracy = 0.517241\n"
     ]
    }
   ],
   "source": [
    "# Call the above function i.e. svm_rbf with different values of parameter 'c' and 'g'.\n",
    "# Start with smaller values of 'c' say 0.0001, 0.001, 0.01, 0.1, 1, 10, 100\n",
    "c_values = [1e-10, 1e-7, 1e-6, 1e-5, 1e-4, 1e-3, 1e-2, 1e-1, 1e0, 1e1, 1e2, 1e3, 1e4, 1e5, 1e6]\n",
    "g_values = [1e-6, 1e-5, 1e-4, 1e-3, 1e-2, 1e-1, 1e0, 1e1, 1e2]\n",
    "for g in g_values:\n",
    "    print(\"g\", g)\n",
    "    for c in c_values:\n",
    "        print(\"c\", c)\n",
    "        svm_rbf(c, g)"
   ]
  },
  {
   "cell_type": "markdown",
   "metadata": {},
   "source": [
    "Change the value of parameter C and gamma above and see the difference in the results. "
   ]
  },
  {
   "cell_type": "markdown",
   "metadata": {},
   "source": [
    "# SVM using Polynomial Kernel.\n",
    "Note: SVM with polynomial kernel can be sometimes very slow. If that is the case, use smaller size of training set. Instead of all 600 training examples, use less (say 300)."
   ]
  },
  {
   "cell_type": "code",
   "execution_count": 47,
   "metadata": {
    "collapsed": true
   },
   "outputs": [],
   "source": [
    "acc_train_svm_poly = []"
   ]
  },
  {
   "cell_type": "code",
   "execution_count": 48,
   "metadata": {
    "collapsed": true
   },
   "outputs": [],
   "source": [
    "acc_test_svm_poly = []"
   ]
  },
  {
   "cell_type": "code",
   "execution_count": 49,
   "metadata": {
    "collapsed": true
   },
   "outputs": [],
   "source": [
    "c_svm_poly = []"
   ]
  },
  {
   "cell_type": "code",
   "execution_count": 53,
   "metadata": {
    "collapsed": true
   },
   "outputs": [],
   "source": [
    "c_svm_poly = []\n",
    "def svm_polynomial(c):\n",
    "    # Create an object of svm classifier using svm.SVC()\n",
    "    # Pass probability = False, kernel = 'poly' , value of C = c.\n",
    "    svc_polynomial = svm.SVC(probability = False, kernel = 'rbf', C = c)\n",
    "    \n",
    "    A = X_train[0:300,:]  # First 300 rows of training set.\n",
    "    B = Y_train[0:300]  \n",
    "    C = X_test[0:100,:]   # First 100 rows of test set.\n",
    "    D = Y_test[0:100]\n",
    "    \n",
    "    # Fit the classifier on the training set.\n",
    "    # Use A and B to train and C and D to test.\n",
    "    svc_polynomial.fit(X=A, y=np.ravel(B))\n",
    "    \n",
    "    # Find the prediction and accuracy on the training set.\n",
    "    Yhat_svc_polynomial_train = svc_polynomial.predict(A)\n",
    "    acc_train = np.mean(Yhat_svc_polynomial_train == B)\n",
    "    acc_train_svm_poly.append(acc_train)\n",
    "    print('Accuracy = {0:f}'.format(acc_train))\n",
    "    \n",
    "    # Find the prediction and accuracy on the test set.\n",
    "    Yhat_svc_polynomial_test = svc_polynomial.predict(C)\n",
    "    acc_test = np.mean(Yhat_svc_polynomial_test == D)\n",
    "    acc_test_svm_poly.append(acc_test)\n",
    "    print('Accuracy = {0:f}'.format(acc_test))\n",
    "    \n",
    "    c_svm_poly.append(c)\n",
    "    "
   ]
  },
  {
   "cell_type": "code",
   "execution_count": 54,
   "metadata": {
    "collapsed": true
   },
   "outputs": [
    {
     "name": "stdout",
     "output_type": "stream",
     "text": [
      "Accuracy = 0.536667\n",
      "Accuracy = 0.500000\n",
      "Accuracy = 0.536667\n",
      "Accuracy = 0.500000\n",
      "Accuracy = 0.536667\n",
      "Accuracy = 0.500000\n",
      "Accuracy = 0.536667\n",
      "Accuracy = 0.500000\n",
      "Accuracy = 0.504400\n",
      "Accuracy = 0.500000\n",
      "Accuracy = 0.501222\n",
      "Accuracy = 0.500000\n",
      "Accuracy = 0.497800\n",
      "Accuracy = 0.500000\n",
      "Accuracy = 0.500244\n",
      "Accuracy = 0.500000\n",
      "Accuracy = 0.503178\n",
      "Accuracy = 0.500000\n",
      "Accuracy = 0.502689\n",
      "Accuracy = 0.500000\n",
      "Accuracy = 0.502689\n",
      "Accuracy = 0.500000\n",
      "Accuracy = 0.502689\n",
      "Accuracy = 0.500000\n"
     ]
    },
    {
     "data": {
      "image/png": "[encoded data removed]",
      "text/plain": [
       "<Figure size 432x288 with 1 Axes>"
      ]
     },
     "metadata": {},
     "output_type": "display_data"
    },
    {
     "data": {
      "image/png": "[encoded data removed]",
      "text/plain": [
       "<Figure size 432x288 with 1 Axes>"
      ]
     },
     "metadata": {},
     "output_type": "display_data"
    }
   ],
   "source": [
    "c_values = [0.00001, 0.0001, 0.001, 0.01, 0.1, 1, 10, 100, 1000, 1e4, 1e5, 1e6]\n",
    "for c in c_values:\n",
    "    svm_polynomial(c)\n",
    "# Write code to plot 2 plots.\n",
    "# Plot training accuracy(Y-axis) v/s 'c' on X - Axis.\n",
    "# Plot test accuracy(Y-Axis) v/s 'c' on X - Axis.\n",
    "showGraph(c_svm_poly, acc_train_svm_poly, \"b\", \"Training\")\n",
    "showGraph(c_svm_poly, acc_test_svm_poly, \"r\", \"Test\")"
   ]
  },
  {
   "cell_type": "markdown",
   "metadata": {},
   "source": [
    "Change the value of parameter C and see the difference in the results."
   ]
  },
  {
   "cell_type": "markdown",
   "metadata": {},
   "source": [
    "# Repeating the Assignment with 2 more Datasets:\n",
    "1) Cryotherapy.csv (Predict result of treatment using 6 predictors).\n",
    "https://archive.ics.uci.edu/ml/datasets/Cryotherapy+Dataset+<br>\n",
    "2) Immunotherapy.csv (Predict result of treatment using 7 predictors).\n",
    "https://archive.ics.uci.edu/ml/datasets/Immunotherapy+Dataset <br>\n",
    "You have to repeat the full assignment with 2 more different datasets. You have to write a small report in a pdf file. You can use bullet points to discuss your results for every function of the assignment.<br>\n",
    "For example, for data1.csv dataset, write which method gave you the best accuracy using which value of the parameter.<br>\n",
    "You have to write this for all the 3 datasets in a single pdf file. \n",
    "Do not write explainations, just discuss your results / observations point to point."
   ]
  },
  {
   "cell_type": "markdown",
   "metadata": {},
   "source": []
  },
  {
   "cell_type": "code",
   "execution_count": 11,
   "metadata": {},
   "outputs": [
    {
     "name": "stdout",
     "output_type": "stream",
     "text": [
      "Accuracy on training data = 0.466667\n",
      "Accuracy on test data = 0.466667\n",
      "Accuracy on training data = 0.466667\n",
      "Accuracy on test data = 0.466667\n",
      "Accuracy on training data = 0.466667\n",
      "Accuracy on test data = 0.466667\n",
      "Accuracy on training data = 0.498889\n",
      "Accuracy on test data = 0.493333\n",
      "Accuracy on training data = 0.497778\n",
      "Accuracy on test data = 0.497778\n",
      "Accuracy on training data = 0.501111\n",
      "Accuracy on test data = 0.500000\n",
      "Accuracy on training data = 0.501111\n",
      "Accuracy on test data = 0.500000\n",
      "Accuracy on training data = 0.501111\n",
      "Accuracy on test data = 0.500000\n",
      "Logistic Regression with L1 Regularization\n",
      "training\n"
     ]
    },
    {
     "data": {
      "image/png": "[encoded data removed]",
      "text/plain": [
       "<Figure size 432x288 with 1 Axes>"
      ]
     },
     "metadata": {},
     "output_type": "display_data"
    },
    {
     "name": "stdout",
     "output_type": "stream",
     "text": [
      "test\n"
     ]
    },
    {
     "data": {
      "image/png": "[encoded data removed]",
      "text/plain": [
       "<Figure size 432x288 with 1 Axes>"
      ]
     },
     "metadata": {},
     "output_type": "display_data"
    },
    {
     "name": "stdout",
     "output_type": "stream",
     "text": [
      "Accuracy on training data = 0.505556\n",
      "Accuracy on test data = 0.504444\n",
      "Accuracy on training data = 0.505556\n",
      "Accuracy on test data = 0.504444\n",
      "Accuracy on training data = 0.505556\n",
      "Accuracy on test data = 0.504444\n",
      "Accuracy on training data = 0.503333\n",
      "Accuracy on test data = 0.504444\n",
      "Accuracy on training data = 0.501111\n",
      "Accuracy on test data = 0.500000\n",
      "Accuracy on training data = 0.501111\n",
      "Accuracy on test data = 0.500000\n",
      "Accuracy on training data = 0.501111\n",
      "Accuracy on test data = 0.500000\n",
      "Accuracy on training data = 0.501111\n",
      "Accuracy on test data = 0.500000\n",
      "Accuracy on training data = 0.501111\n",
      "Accuracy on test data = 0.500000\n",
      "Logistic Regression with L2 Regularization\n",
      "training\n"
     ]
    },
    {
     "data": {
      "image/png": "[encoded data removed]",
      "text/plain": [
       "<Figure size 432x288 with 1 Axes>"
      ]
     },
     "metadata": {},
     "output_type": "display_data"
    },
    {
     "name": "stdout",
     "output_type": "stream",
     "text": [
      "test\n"
     ]
    },
    {
     "data": {
      "image/png": "[encoded data removed]",
      "text/plain": [
       "<Figure size 432x288 with 1 Axes>"
      ]
     },
     "metadata": {},
     "output_type": "display_data"
    },
    {
     "name": "stdout",
     "output_type": "stream",
     "text": [
      "Accuracy on training data = 0.466667\n",
      "Accuracy on test data = 0.466667\n",
      "Accuracy on training data = 0.466667\n",
      "Accuracy on test data = 0.466667\n",
      "Accuracy on training data = 0.466667\n",
      "Accuracy on test data = 0.466667\n",
      "Accuracy on training data = 0.466667\n",
      "Accuracy on test data = 0.466667\n",
      "Accuracy on training data = 0.466667\n",
      "Accuracy on test data = 0.466667\n",
      "Accuracy on training data = 0.498889\n",
      "Accuracy on test data = 0.491111\n",
      "Accuracy on training data = 0.501111\n",
      "Accuracy on test data = 0.500000\n",
      "Accuracy on training data = 0.502222\n",
      "Accuracy on test data = 0.504444\n",
      "Accuracy on training data = 0.502222\n",
      "Accuracy on test data = 0.504444\n",
      "Polynomial Transformed Logistic Regression with L1 Regularization\n",
      "training\n"
     ]
    },
    {
     "data": {
      "image/png": "[encoded data removed]",
      "text/plain": [
       "<Figure size 432x288 with 1 Axes>"
      ]
     },
     "metadata": {},
     "output_type": "display_data"
    },
    {
     "name": "stdout",
     "output_type": "stream",
     "text": [
      "test\n"
     ]
    },
    {
     "data": {
      "image/png": "[encoded data removed]",
      "text/plain": [
       "<Figure size 432x288 with 1 Axes>"
      ]
     },
     "metadata": {},
     "output_type": "display_data"
    },
    {
     "name": "stdout",
     "output_type": "stream",
     "text": [
      "Accuracy on training data = 0.497778\n",
      "Accuracy on test data = 0.504444\n",
      "Accuracy on training data = 0.497778\n",
      "Accuracy on test data = 0.504444\n",
      "Accuracy on training data = 0.497778\n",
      "Accuracy on test data = 0.504444\n",
      "Accuracy on training data = 0.498889\n",
      "Accuracy on test data = 0.504444\n",
      "Accuracy on training data = 0.503333\n",
      "Accuracy on test data = 0.504444\n",
      "Accuracy on training data = 0.501111\n",
      "Accuracy on test data = 0.502222\n",
      "Accuracy on training data = 0.501111\n",
      "Accuracy on test data = 0.504444\n",
      "Accuracy on training data = 0.502222\n",
      "Accuracy on test data = 0.504444\n",
      "Accuracy on training data = 0.502222\n",
      "Accuracy on test data = 0.504444\n",
      "Polynomial Transformed Logistic Regression with L2 Regularization\n",
      "training\n"
     ]
    },
    {
     "data": {
      "image/png": "[encoded data removed]",
      "text/plain": [
       "<Figure size 432x288 with 1 Axes>"
      ]
     },
     "metadata": {},
     "output_type": "display_data"
    },
    {
     "name": "stdout",
     "output_type": "stream",
     "text": [
      "test\n"
     ]
    },
    {
     "data": {
      "image/png": "[encoded data removed]",
      "text/plain": [
       "<Figure size 432x288 with 1 Axes>"
      ]
     },
     "metadata": {},
     "output_type": "display_data"
    },
    {
     "name": "stdout",
     "output_type": "stream",
     "text": [
      "Accuracy = 0.533333\n",
      "Accuracy = 0.533333\n",
      "Accuracy = 0.533333\n",
      "Accuracy = 0.533333\n",
      "Accuracy = 0.533333\n",
      "Accuracy = 0.533333\n",
      "Accuracy = 0.533333\n",
      "Accuracy = 0.533333\n",
      "Accuracy = 0.533333\n",
      "Accuracy = 0.533333\n",
      "Accuracy = 0.507778\n",
      "Accuracy = 0.508889\n",
      "Accuracy = 0.496667\n",
      "Accuracy = 0.500000\n",
      "Accuracy = 0.500000\n",
      "Accuracy = 0.506667\n",
      "Support Vector Machine with Linear Kernal\n",
      "training\n"
     ]
    },
    {
     "data": {
      "image/png": "[encoded data removed]",
      "text/plain": [
       "<Figure size 432x288 with 1 Axes>"
      ]
     },
     "metadata": {},
     "output_type": "display_data"
    },
    {
     "name": "stdout",
     "output_type": "stream",
     "text": [
      "test\n"
     ]
    },
    {
     "data": {
      "image/png": "[encoded data removed]",
      "text/plain": [
       "<Figure size 432x288 with 1 Axes>"
      ]
     },
     "metadata": {},
     "output_type": "display_data"
    },
    {
     "name": "stdout",
     "output_type": "stream",
     "text": [
      "Accuracy = 0.533333\n",
      "Accuracy = 0.533333\n",
      "Accuracy = 0.533333\n",
      "Accuracy = 0.533333\n",
      "Accuracy = 0.533333\n",
      "Accuracy = 0.533333\n",
      "Accuracy = 0.533333\n",
      "Accuracy = 0.533333\n",
      "Accuracy = 0.520000\n",
      "Accuracy = 0.524444\n",
      "Accuracy = 0.497778\n",
      "Accuracy = 0.500000\n",
      "Accuracy = 0.497778\n",
      "Accuracy = 0.500000\n",
      "Accuracy = 0.497778\n",
      "Accuracy = 0.500000\n",
      "Accuracy = 0.497778\n",
      "Accuracy = 0.500000\n",
      "Accuracy = 0.497778\n",
      "Accuracy = 0.500000\n",
      "Accuracy = 0.498889\n",
      "Accuracy = 0.500000\n",
      "Accuracy = 0.501111\n",
      "Accuracy = 0.508889\n",
      "Accuracy = 0.502222\n",
      "Accuracy = 0.504444\n",
      "Accuracy = 0.502222\n",
      "Accuracy = 0.504444\n",
      "Support Vector Machine with Polynomial Kernal\n",
      "training\n"
     ]
    },
    {
     "data": {
      "image/png": "[encoded data removed]",
      "text/plain": [
       "<Figure size 432x288 with 1 Axes>"
      ]
     },
     "metadata": {},
     "output_type": "display_data"
    },
    {
     "name": "stdout",
     "output_type": "stream",
     "text": [
      "test\n"
     ]
    },
    {
     "data": {
      "image/png": "[encoded data removed]",
      "text/plain": [
       "<Figure size 432x288 with 1 Axes>"
      ]
     },
     "metadata": {},
     "output_type": "display_data"
    }
   ],
   "source": [
    "# Importing the libraries to be used:\n",
    "import numpy as np\n",
    "import pandas as pd\n",
    "from sklearn import linear_model\n",
    "from sklearn import preprocessing\n",
    "from sklearn import svm\n",
    "import matplotlib.pyplot as plt\n",
    "%matplotlib inline \n",
    "\n",
    "def svm_linear(c):\n",
    "    # Create an object of svm.SVC(probability = False, kernel = 'linear', C = c).\n",
    "    svc = svm.SVC(probability = False, kernel = 'linear', C = c)\n",
    "    \n",
    "    # Fit the classifier on the training set.\n",
    "    svc.fit(X=X_train, y=np.ravel(Y_train))\n",
    "    \n",
    "    # Find the prediction and accuracy on the training set.\n",
    "    Yhat_svc_linear_train = svc.predict(X_train)\n",
    "    acc_train = np.mean(Yhat_svc_linear_train == Y_train)\n",
    "    acc_train_svm_linear.append(acc_train)\n",
    "    print('Accuracy = {0:f}'.format(acc_train))\n",
    "    \n",
    "    # Find the prediction and accuracy on the test set.\n",
    "    Yhat_svc_linear_test = svc.predict(X_test)\n",
    "    acc_test = np.mean(Yhat_svc_linear_test == Y_test)\n",
    "    acc_test_svm_linear.append(acc_test)\n",
    "    print('Accuracy = {0:f}'.format(acc_test))\n",
    "    \n",
    "    c_svm_linear.append(c)\n",
    "def showGraph (c_values, acc_values,c,p) :\n",
    "    print(p)\n",
    "    fig = plt.figure()\n",
    "    ax1 = fig.add_subplot(111)\n",
    "    ax1.scatter(c_values, acc_values[:len(c_values)], s=10, c=c)\n",
    "    plt.show()\n",
    "df = pd.read_csv(\"Cryotherapy.csv\")\n",
    "df1 = df.dropna(axis = 1)\n",
    "df2 = df1.values\n",
    "# Select all rows and first 19 columns as X from df2.\n",
    "X = preprocessing.scale(df2[:,:6])\n",
    "# Select all rows and last column as Y from df2.\n",
    "Y = df2[:,6:]\n",
    "\n",
    "X_train = X[:60]\n",
    "Y_train = Y[:60]\n",
    "X_test = X[60:]\n",
    "Y_test = Y[60: ]\n",
    "# Complete the function logreg that accepts 'c' as a parameter, which is used to create logreg model \n",
    "# with different values of C.\n",
    "def logreg2_model(c , X_train, Y_train, X_test, Y_test):\n",
    "    # Create an object of logistic regression model using linear_model.\n",
    "    # Pass the value of C=c.\n",
    "    # You need not pass other parameters as penalty is 'L2' by default.\n",
    "    \n",
    "    logreg2 = linear_model.LogisticRegression(penalty='l2', C=c)\n",
    "    \n",
    "    # Fit the model on the training set.\n",
    "    logreg2.fit(X=X_train, y=np.ravel(Y_train))\n",
    "    \n",
    "    # Find the prediction on training set.\n",
    "    Yhat_train = logreg2.predict(X_train)\n",
    "    acc_train = np.mean(Yhat_train == Y_train)\n",
    "    acc_train_logreg2.append(acc_train)\n",
    "    print(\"Accuracy on training data = %f\" % acc_train)\n",
    "    \n",
    "    # Find the prediction and accuracy on test set.\n",
    "    Yhat_test = logreg2.predict(X_test)\n",
    "    acc_test = np.mean(Yhat_test == Y_test)\n",
    "    acc_test_logreg2.append(acc_test)\n",
    "    print(\"Accuracy on test data = %f\" % acc_test)\n",
    "    \n",
    "    c_logreg2.append(c)\n",
    "    \n",
    "def logreg_model(c , X_train, Y_train, X_test, Y_test):\n",
    "    # Create an object of logistic regression model using linear_model.\n",
    "    # Pass the value of penalty as 'L1'. By default, it is 'L2'.\n",
    "    # Pass the value of C = c. Note that C is the inverse of lambda. So, small value of C i.e. b/w 0 and 1 \n",
    "    # means stronger regularization and large value means less regularization.\n",
    "    # Also, in sklearn, L1 is only supported with solver = 'saga'. Solver is the type of optimization algorithm like GDA or\n",
    "    # SGDA, which is to be used. So, 'saga' is another algorithm like that. Pass the value of solver as 'saga'\n",
    "\n",
    "    logreg = linear_model.LogisticRegression(penalty='l1', C=c)\n",
    "    \n",
    "    # Fit the model on the training set.\n",
    "    logreg.fit(X=X_train, y=np.ravel(Y_train))\n",
    "    \n",
    "    # Find the prediction on training set.\n",
    "    Yhat_train = logreg.predict(X_train)\n",
    "    acc_train = np.mean(Yhat_train == Y_train)\n",
    "    acc_train_logreg.append(acc_train)\n",
    "    print(\"Accuracy on training data = %f\" % acc_train)\n",
    "    \n",
    "    # Find the prediction on test set.\n",
    "    Yhat_test = logreg.predict(X_test)\n",
    "    acc_test = np.mean(Yhat_test == Y_test)\n",
    "    acc_test_logreg.append(acc_test)\n",
    "    print(\"Accuracy on test data = %f\" % acc_test)\n",
    "    \n",
    "    c_logreg.append(c)\n",
    "acc_train_logreg = [] \n",
    "acc_test_logreg = []\n",
    "c_logreg = []\n",
    "\n",
    "c_values = [0.0001, 0.001, 0.01, 0.1, 1, 10, 100, 1000]\n",
    "for c in c_values:\n",
    "    logreg_model(c, X_train, Y_train, X_test, Y_test)\n",
    "\n",
    "print(\"Logistic Regression with L1 Regularization\")\n",
    "showGraph(c_values, acc_train_logreg, 'b', 'training')\n",
    "showGraph(c_values, acc_test_logreg, 'r', 'test')\n",
    "\n",
    "acc_train_logreg2 = []\n",
    "acc_test_logreg2 = []\n",
    "c_logreg2 = []\n",
    "c_values = [0.0001, 0.001, 0.01, 0.1, 1, 10, 100, 1000, 10000]\n",
    "for c in c_values:\n",
    "    logreg2_model(c, X_train, Y_train, X_test, Y_test)\n",
    "    \n",
    "print(\"Logistic Regression with L2 Regularization\")\n",
    "showGraph(c_values, acc_train_logreg2, 'b', 'training')\n",
    "showGraph(c_values, acc_test_logreg2, 'r', 'test')\n",
    "\n",
    "acc_train_logreg = []\n",
    "acc_test_logreg = []\n",
    "from sklearn.preprocessing import PolynomialFeatures\n",
    "poly = PolynomialFeatures(2)\n",
    "X_transformed_train = poly.fit_transform(X=X_train)\n",
    "X_transformed_test = poly.fit_transform(X=X_test)\n",
    "\n",
    "c_values = [0.000001, 0.00001, 0.0001, 0.001, 0.01, 0.1, 1, 10, 100]\n",
    "for c in c_values:\n",
    "    logreg_model(c, X_transformed_train, Y_train, X_transformed_test, Y_test)\n",
    "\n",
    "print(\"Polynomial Transformed Logistic Regression with L1 Regularization\")\n",
    "showGraph(c_values, acc_train_logreg, 'b', 'training')\n",
    "showGraph(c_values, acc_test_logreg, 'r', 'test')\n",
    "    \n",
    "acc_train_logreg2 = []\n",
    "acc_test_logreg2 = []\n",
    "\n",
    "    \n",
    "c_values = [0.000001, 0.00001, 0.0001, 0.001, 0.01, 0.1, 1, 10, 100]\n",
    "for c in c_values:\n",
    "    logreg2_model(c, X_transformed_train, Y_train, X_transformed_test, Y_test)\n",
    "\n",
    "print(\"Polynomial Transformed Logistic Regression with L2 Regularization\")\n",
    "showGraph(c_values, acc_train_logreg2, 'b', 'training')\n",
    "showGraph(c_values, acc_test_logreg2, 'r', 'test')\n",
    "\n",
    "acc_train_svm_linear = []\n",
    "acc_test_svm_linear = []\n",
    "c_svm_linear = []\n",
    "\n",
    "c_values = [0.0000001, 0.000001, 0.00001, 0.0001, 0.001, 0.01, 0.1, 1]\n",
    "for c in c_values:\n",
    "    svm_linear(c)\n",
    "    \n",
    "print(\"Support Vector Machine with Linear Kernal\")\n",
    "showGraph(c_values, acc_train_svm_linear, 'b', 'training')\n",
    "showGraph(c_values, acc_test_svm_linear, 'r', 'test')\n",
    "\n",
    "acc_test_svm_poly = []\n",
    "acc_train_svm_poly = []\n",
    "c_svm_poly = []\n",
    "def svm_polynomial(c):\n",
    "    # Create an object of svm classifier using svm.SVC()\n",
    "    # Pass probability = False, kernel = 'poly' , value of C = c.\n",
    "    svc_polynomial = svm.SVC(probability = False, kernel = 'rbf', C = c)\n",
    "    \n",
    "    A = X_train[0:300,:]  # First 300 rows of training set.\n",
    "    B = Y_train[0:300]  \n",
    "    C = X_test[0:100,:]   # First 100 rows of test set.\n",
    "    D = Y_test[0:100]\n",
    "    \n",
    "    # Fit the classifier on the training set.\n",
    "    # Use A and B to train and C and D to test.\n",
    "    svc_polynomial.fit(X=A, y=np.ravel(B))\n",
    "    \n",
    "    # Find the prediction and accuracy on the training set.\n",
    "    Yhat_svc_polynomial_train = svc_polynomial.predict(A)\n",
    "    acc_train = np.mean(Yhat_svc_polynomial_train == B)\n",
    "    acc_train_svm_poly.append(acc_train)\n",
    "    print('Accuracy = {0:f}'.format(acc_train))\n",
    "    \n",
    "    # Find the prediction and accuracy on the test set.\n",
    "    Yhat_svc_polynomial_test = svc_polynomial.predict(C)\n",
    "    acc_test = np.mean(Yhat_svc_polynomial_test == D)\n",
    "    acc_test_svm_poly.append(acc_test)\n",
    "    print('Accuracy = {0:f}'.format(acc_test))\n",
    "    \n",
    "    c_svm_poly.append(c)\n",
    "    \n",
    "c_values = [0.00001, 0.0001, 0.001, 0.01, 0.1, 0.5, 0.53, 0.535, 0.55, 0.6, 1, 10, 100, 1000]\n",
    "for c in c_values:\n",
    "    svm_polynomial(c)\n",
    "\n",
    "print(\"Support Vector Machine with Polynomial Kernal\")\n",
    "showGraph(c_values, acc_train_svm_poly, 'b', 'training')\n",
    "showGraph(c_values, acc_test_svm_poly, 'r', 'test')"
   ]
  },
  {
   "cell_type": "markdown",
   "metadata": {},
   "source": []
  },
  {
   "cell_type": "code",
   "execution_count": 14,
   "metadata": {},
   "outputs": [
    {
     "name": "stdout",
     "output_type": "stream",
     "text": [
      "Accuracy on training data = 0.200000\n",
      "Accuracy on test data = 0.233333\n",
      "Accuracy on training data = 0.200000\n",
      "Accuracy on test data = 0.233333\n",
      "Accuracy on training data = 0.200000\n",
      "Accuracy on test data = 0.233333\n",
      "Accuracy on training data = 0.800000\n",
      "Accuracy on test data = 0.766667\n",
      "Accuracy on training data = 0.790000\n",
      "Accuracy on test data = 0.766667\n",
      "Accuracy on training data = 0.770000\n",
      "Accuracy on test data = 0.731111\n",
      "Accuracy on training data = 0.760000\n",
      "Accuracy on test data = 0.731111\n",
      "Accuracy on training data = 0.760000\n",
      "Accuracy on test data = 0.731111\n",
      "Logistic Regression with L1 Regularization\n",
      "training\n"
     ]
    },
    {
     "data": {
      "image/png": "[encoded data removed]",
      "text/plain": [
       "<Figure size 432x288 with 1 Axes>"
      ]
     },
     "metadata": {},
     "output_type": "display_data"
    },
    {
     "name": "stdout",
     "output_type": "stream",
     "text": [
      "test\n"
     ]
    },
    {
     "data": {
      "image/png": "[encoded data removed]",
      "text/plain": [
       "<Figure size 432x288 with 1 Axes>"
      ]
     },
     "metadata": {},
     "output_type": "display_data"
    },
    {
     "name": "stdout",
     "output_type": "stream",
     "text": [
      "Accuracy on training data = 0.740000\n",
      "Accuracy on test data = 0.713333\n",
      "Accuracy on training data = 0.740000\n",
      "Accuracy on test data = 0.713333\n",
      "Accuracy on training data = 0.740000\n",
      "Accuracy on test data = 0.713333\n",
      "Accuracy on training data = 0.760000\n",
      "Accuracy on test data = 0.731111\n",
      "Accuracy on training data = 0.760000\n",
      "Accuracy on test data = 0.731111\n",
      "Accuracy on training data = 0.760000\n",
      "Accuracy on test data = 0.731111\n",
      "Accuracy on training data = 0.760000\n",
      "Accuracy on test data = 0.731111\n",
      "Accuracy on training data = 0.760000\n",
      "Accuracy on test data = 0.731111\n",
      "Accuracy on training data = 0.760000\n",
      "Accuracy on test data = 0.731111\n",
      "Logistic Regression with L2 Regularization\n",
      "training\n"
     ]
    },
    {
     "data": {
      "image/png": "[encoded data removed]",
      "text/plain": [
       "<Figure size 432x288 with 1 Axes>"
      ]
     },
     "metadata": {},
     "output_type": "display_data"
    },
    {
     "name": "stdout",
     "output_type": "stream",
     "text": [
      "test\n"
     ]
    },
    {
     "data": {
      "image/png": "[encoded data removed]",
      "text/plain": [
       "<Figure size 432x288 with 1 Axes>"
      ]
     },
     "metadata": {},
     "output_type": "display_data"
    },
    {
     "name": "stdout",
     "output_type": "stream",
     "text": [
      "Accuracy on training data = 0.200000\n",
      "Accuracy on test data = 0.233333\n",
      "Accuracy on training data = 0.200000\n",
      "Accuracy on test data = 0.233333\n",
      "Accuracy on training data = 0.200000\n",
      "Accuracy on test data = 0.233333\n",
      "Accuracy on training data = 0.200000\n",
      "Accuracy on test data = 0.233333\n",
      "Accuracy on training data = 0.200000\n",
      "Accuracy on test data = 0.233333\n",
      "Accuracy on training data = 0.800000\n",
      "Accuracy on test data = 0.766667\n",
      "Accuracy on training data = 0.740000\n",
      "Accuracy on test data = 0.695556\n",
      "Accuracy on training data = 0.680000\n",
      "Accuracy on test data = 0.642222\n",
      "Accuracy on training data = 0.680000\n",
      "Accuracy on test data = 0.624444\n",
      "Polynomial Transformed Logistic Regression with L1 Regularization\n",
      "training\n"
     ]
    },
    {
     "data": {
      "image/png": "[encoded data removed]",
      "text/plain": [
       "<Figure size 432x288 with 1 Axes>"
      ]
     },
     "metadata": {},
     "output_type": "display_data"
    },
    {
     "name": "stdout",
     "output_type": "stream",
     "text": [
      "test\n"
     ]
    },
    {
     "data": {
      "image/png": "[encoded data removed]",
      "text/plain": [
       "<Figure size 432x288 with 1 Axes>"
      ]
     },
     "metadata": {},
     "output_type": "display_data"
    },
    {
     "name": "stdout",
     "output_type": "stream",
     "text": [
      "Accuracy on training data = 0.800000\n",
      "Accuracy on test data = 0.766667\n",
      "Accuracy on training data = 0.800000\n",
      "Accuracy on test data = 0.766667\n",
      "Accuracy on training data = 0.800000\n",
      "Accuracy on test data = 0.766667\n",
      "Accuracy on training data = 0.800000\n",
      "Accuracy on test data = 0.766667\n",
      "Accuracy on training data = 0.790000\n",
      "Accuracy on test data = 0.766667\n",
      "Accuracy on training data = 0.770000\n",
      "Accuracy on test data = 0.731111\n",
      "Accuracy on training data = 0.710000\n",
      "Accuracy on test data = 0.677778\n",
      "Accuracy on training data = 0.690000\n",
      "Accuracy on test data = 0.660000\n",
      "Accuracy on training data = 0.680000\n",
      "Accuracy on test data = 0.642222\n",
      "Polynomial Transformed Logistic Regression with L2 Regularization\n",
      "training\n"
     ]
    },
    {
     "data": {
      "image/png": "[encoded data removed]",
      "text/plain": [
       "<Figure size 432x288 with 1 Axes>"
      ]
     },
     "metadata": {},
     "output_type": "display_data"
    },
    {
     "name": "stdout",
     "output_type": "stream",
     "text": [
      "test\n"
     ]
    },
    {
     "data": {
      "image/png": "[encoded data removed]",
      "text/plain": [
       "<Figure size 432x288 with 1 Axes>"
      ]
     },
     "metadata": {},
     "output_type": "display_data"
    },
    {
     "name": "stdout",
     "output_type": "stream",
     "text": [
      "Accuracy = 0.800000\n",
      "Accuracy = 0.766667\n",
      "Accuracy = 0.800000\n",
      "Accuracy = 0.766667\n",
      "Accuracy = 0.800000\n",
      "Accuracy = 0.766667\n",
      "Accuracy = 0.800000\n",
      "Accuracy = 0.766667\n",
      "Accuracy = 0.800000\n",
      "Accuracy = 0.766667\n",
      "Accuracy = 0.800000\n",
      "Accuracy = 0.766667\n",
      "Accuracy = 0.800000\n",
      "Accuracy = 0.766667\n",
      "Accuracy = 0.760000\n",
      "Accuracy = 0.731111\n",
      "Support Vector Machine with Linear Kernal\n",
      "training\n"
     ]
    },
    {
     "data": {
      "image/png": "[encoded data removed]",
      "text/plain": [
       "<Figure size 432x288 with 1 Axes>"
      ]
     },
     "metadata": {},
     "output_type": "display_data"
    },
    {
     "name": "stdout",
     "output_type": "stream",
     "text": [
      "test\n"
     ]
    },
    {
     "data": {
      "image/png": "[encoded data removed]",
      "text/plain": [
       "<Figure size 432x288 with 1 Axes>"
      ]
     },
     "metadata": {},
     "output_type": "display_data"
    },
    {
     "name": "stdout",
     "output_type": "stream",
     "text": [
      "Accuracy = 0.800000\n",
      "Accuracy = 0.766667\n",
      "Accuracy = 0.800000\n",
      "Accuracy = 0.766667\n",
      "Accuracy = 0.800000\n",
      "Accuracy = 0.766667\n",
      "Accuracy = 0.800000\n",
      "Accuracy = 0.766667\n",
      "Accuracy = 0.800000\n",
      "Accuracy = 0.766667\n",
      "Accuracy = 0.800000\n",
      "Accuracy = 0.766667\n",
      "Accuracy = 0.800000\n",
      "Accuracy = 0.766667\n",
      "Accuracy = 0.800000\n",
      "Accuracy = 0.766667\n",
      "Accuracy = 0.800000\n",
      "Accuracy = 0.766667\n",
      "Accuracy = 0.800000\n",
      "Accuracy = 0.766667\n",
      "Accuracy = 0.780000\n",
      "Accuracy = 0.766667\n",
      "Accuracy = 0.690000\n",
      "Accuracy = 0.677778\n",
      "Accuracy = 0.680000\n",
      "Accuracy = 0.606667\n",
      "Accuracy = 0.680000\n",
      "Accuracy = 0.624444\n",
      "Support Vector Machine with Polynomial Kernal\n",
      "training\n"
     ]
    },
    {
     "data": {
      "image/png": "[encoded data removed]",
      "text/plain": [
       "<Figure size 432x288 with 1 Axes>"
      ]
     },
     "metadata": {},
     "output_type": "display_data"
    },
    {
     "name": "stdout",
     "output_type": "stream",
     "text": [
      "test\n"
     ]
    },
    {
     "data": {
      "image/png": "[encoded data removed]",
      "text/plain": [
       "<Figure size 432x288 with 1 Axes>"
      ]
     },
     "metadata": {},
     "output_type": "display_data"
    }
   ],
   "source": [
    "# Importing the libraries to be used:\n",
    "import numpy as np\n",
    "import pandas as pd\n",
    "from sklearn import linear_model\n",
    "from sklearn import preprocessing\n",
    "from sklearn import svm\n",
    "import matplotlib.pyplot as plt\n",
    "%matplotlib inline \n",
    "\n",
    "\n",
    "df = pd.read_csv(\"immunotherapy.csv\")\n",
    "df1 = df.dropna(axis = 1)\n",
    "df2 = df1.values\n",
    "# Select all rows and first 19 columns as X from df2.\n",
    "X = preprocessing.scale(df2[:,:7])\n",
    "# Select all rows and last column as Y from df2.\n",
    "Y = df2[:,7:]\n",
    "\n",
    "X_train = X[:60]\n",
    "Y_train = Y[:60]\n",
    "X_test = X[60:]\n",
    "Y_test = Y[60: ]\n",
    "\n",
    "def svm_linear(c):\n",
    "    # Create an object of svm.SVC(probability = False, kernel = 'linear', C = c).\n",
    "    svc = svm.SVC(probability = False, kernel = 'linear', C = c)\n",
    "    \n",
    "    # Fit the classifier on the training set.\n",
    "    svc.fit(X=X_train, y=np.ravel(Y_train))\n",
    "    \n",
    "    # Find the prediction and accuracy on the training set.\n",
    "    Yhat_svc_linear_train = svc.predict(X_train)\n",
    "    acc_train = np.mean(Yhat_svc_linear_train == Y_train)\n",
    "    acc_train_svm_linear.append(acc_train)\n",
    "    print('Accuracy = {0:f}'.format(acc_train))\n",
    "    \n",
    "    # Find the prediction and accuracy on the test set.\n",
    "    Yhat_svc_linear_test = svc.predict(X_test)\n",
    "    acc_test = np.mean(Yhat_svc_linear_test == Y_test)\n",
    "    acc_test_svm_linear.append(acc_test)\n",
    "    print('Accuracy = {0:f}'.format(acc_test))\n",
    "    \n",
    "    c_svm_linear.append(c)\n",
    "def showGraph (c_values, acc_values,c,p) :\n",
    "    print(p)\n",
    "    fig = plt.figure()\n",
    "    ax1 = fig.add_subplot(111)\n",
    "    ax1.scatter(c_values, acc_values[:len(c_values)], s=10, c=c)\n",
    "    plt.show()\n",
    "\n",
    "# Complete the function logreg that accepts 'c' as a parameter, which is used to create logreg model \n",
    "# with different values of C.\n",
    "def logreg2_model(c , X_train, Y_train, X_test, Y_test):\n",
    "    # Create an object of logistic regression model using linear_model.\n",
    "    # Pass the value of C=c.\n",
    "    # You need not pass other parameters as penalty is 'L2' by default.\n",
    "    \n",
    "    logreg2 = linear_model.LogisticRegression(penalty='l2', C=c)\n",
    "    \n",
    "    # Fit the model on the training set.\n",
    "    logreg2.fit(X=X_train, y=np.ravel(Y_train))\n",
    "    \n",
    "    # Find the prediction on training set.\n",
    "    Yhat_train = logreg2.predict(X_train)\n",
    "    acc_train = np.mean(Yhat_train == Y_train)\n",
    "    acc_train_logreg2.append(acc_train)\n",
    "    print(\"Accuracy on training data = %f\" % acc_train)\n",
    "    \n",
    "    # Find the prediction and accuracy on test set.\n",
    "    Yhat_test = logreg2.predict(X_test)\n",
    "    acc_test = np.mean(Yhat_test == Y_test)\n",
    "    acc_test_logreg2.append(acc_test)\n",
    "    print(\"Accuracy on test data = %f\" % acc_test)\n",
    "    \n",
    "    c_logreg2.append(c)\n",
    "    \n",
    "def logreg_model(c , X_train, Y_train, X_test, Y_test):\n",
    "    # Create an object of logistic regression model using linear_model.\n",
    "    # Pass the value of penalty as 'L1'. By default, it is 'L2'.\n",
    "    # Pass the value of C = c. Note that C is the inverse of lambda. So, small value of C i.e. b/w 0 and 1 \n",
    "    # means stronger regularization and large value means less regularization.\n",
    "    # Also, in sklearn, L1 is only supported with solver = 'saga'. Solver is the type of optimization algorithm like GDA or\n",
    "    # SGDA, which is to be used. So, 'saga' is another algorithm like that. Pass the value of solver as 'saga'\n",
    "\n",
    "    logreg = linear_model.LogisticRegression(penalty='l1', C=c)\n",
    "    \n",
    "    # Fit the model on the training set.\n",
    "    logreg.fit(X=X_train, y=np.ravel(Y_train))\n",
    "    \n",
    "    # Find the prediction on training set.\n",
    "    Yhat_train = logreg.predict(X_train)\n",
    "    acc_train = np.mean(Yhat_train == Y_train)\n",
    "    acc_train_logreg.append(acc_train)\n",
    "    print(\"Accuracy on training data = %f\" % acc_train)\n",
    "    \n",
    "    # Find the prediction on test set.\n",
    "    Yhat_test = logreg.predict(X_test)\n",
    "    acc_test = np.mean(Yhat_test == Y_test)\n",
    "    acc_test_logreg.append(acc_test)\n",
    "    print(\"Accuracy on test data = %f\" % acc_test)\n",
    "    \n",
    "    c_logreg.append(c)\n",
    "    \n",
    "acc_train_logreg = [] \n",
    "acc_test_logreg = []\n",
    "c_logreg = []\n",
    "\n",
    "c_values = [0.0001, 0.001, 0.01, 0.1, 1, 10, 100, 1000]\n",
    "for c in c_values:\n",
    "    logreg_model(c, X_train, Y_train, X_test, Y_test)\n",
    "\n",
    "print(\"Logistic Regression with L1 Regularization\")\n",
    "showGraph(c_values, acc_train_logreg, 'b', 'training')\n",
    "showGraph(c_values, acc_test_logreg, 'r', 'test')\n",
    "\n",
    "acc_train_logreg2 = []\n",
    "acc_test_logreg2 = []\n",
    "c_logreg2 = []\n",
    "c_values = [0.0001, 0.001, 0.01, 0.1, 1, 10, 100, 1000, 10000]\n",
    "for c in c_values:\n",
    "    logreg2_model(c, X_train, Y_train, X_test, Y_test)\n",
    "    \n",
    "print(\"Logistic Regression with L2 Regularization\")\n",
    "showGraph(c_values, acc_train_logreg2, 'b', 'training')\n",
    "showGraph(c_values, acc_test_logreg2, 'r', 'test')\n",
    "\n",
    "acc_train_logreg = []\n",
    "acc_test_logreg = []\n",
    "from sklearn.preprocessing import PolynomialFeatures\n",
    "poly = PolynomialFeatures(2)\n",
    "X_transformed_train = poly.fit_transform(X=X_train)\n",
    "X_transformed_test = poly.fit_transform(X=X_test)\n",
    "\n",
    "c_values = [0.000001, 0.00001, 0.0001, 0.001, 0.01, 0.1, 1, 10, 100]\n",
    "for c in c_values:\n",
    "    logreg_model(c, X_transformed_train, Y_train, X_transformed_test, Y_test)\n",
    "\n",
    "print(\"Polynomial Transformed Logistic Regression with L1 Regularization\")\n",
    "showGraph(c_values, acc_train_logreg, 'b', 'training')\n",
    "showGraph(c_values, acc_test_logreg, 'r', 'test')\n",
    "    \n",
    "acc_train_logreg2 = []\n",
    "acc_test_logreg2 = []\n",
    "\n",
    "    \n",
    "c_values = [0.000001, 0.00001, 0.0001, 0.001, 0.01, 0.1, 1, 10, 100]\n",
    "for c in c_values:\n",
    "    logreg2_model(c, X_transformed_train, Y_train, X_transformed_test, Y_test)\n",
    "\n",
    "print(\"Polynomial Transformed Logistic Regression with L2 Regularization\")\n",
    "showGraph(c_values, acc_train_logreg2, 'b', 'training')\n",
    "showGraph(c_values, acc_test_logreg2, 'r', 'test')\n",
    "\n",
    "acc_train_svm_linear = []\n",
    "acc_test_svm_linear = []\n",
    "c_svm_linear = []\n",
    "\n",
    "c_values = [0.0000001, 0.000001, 0.00001, 0.0001, 0.001, 0.01, 0.1, 1]\n",
    "for c in c_values:\n",
    "    svm_linear(c)\n",
    "    \n",
    "print(\"Support Vector Machine with Linear Kernal\")\n",
    "showGraph(c_values, acc_train_svm_linear, 'b', 'training')\n",
    "showGraph(c_values, acc_test_svm_linear, 'r', 'test')\n",
    "\n",
    "acc_test_svm_poly = []\n",
    "acc_train_svm_poly = []\n",
    "c_svm_poly = []\n",
    "def svm_polynomial(c):\n",
    "    # Create an object of svm classifier using svm.SVC()\n",
    "    # Pass probability = False, kernel = 'poly' , value of C = c.\n",
    "    svc_polynomial = svm.SVC(probability = False, kernel = 'rbf', C = c)\n",
    "    \n",
    "    A = X_train[0:300,:]  # First 300 rows of training set.\n",
    "    B = Y_train[0:300]  \n",
    "    C = X_test[0:100,:]   # First 100 rows of test set.\n",
    "    D = Y_test[0:100]\n",
    "    \n",
    "    # Fit the classifier on the training set.\n",
    "    # Use A and B to train and C and D to test.\n",
    "    svc_polynomial.fit(X=A, y=np.ravel(B))\n",
    "    \n",
    "    # Find the prediction and accuracy on the training set.\n",
    "    Yhat_svc_polynomial_train = svc_polynomial.predict(A)\n",
    "    acc_train = np.mean(Yhat_svc_polynomial_train == B)\n",
    "    acc_train_svm_poly.append(acc_train)\n",
    "    print('Accuracy = {0:f}'.format(acc_train))\n",
    "    \n",
    "    # Find the prediction and accuracy on the test set.\n",
    "    Yhat_svc_polynomial_test = svc_polynomial.predict(C)\n",
    "    acc_test = np.mean(Yhat_svc_polynomial_test == D)\n",
    "    acc_test_svm_poly.append(acc_test)\n",
    "    print('Accuracy = {0:f}'.format(acc_test))\n",
    "    \n",
    "    c_svm_poly.append(c)\n",
    "    \n",
    "c_values = [0.00001, 0.0001, 0.001, 0.01, 0.1, 0.5, 0.53, 0.535, 0.55, 0.6, 1, 10, 100, 1000]\n",
    "for c in c_values:\n",
    "    svm_polynomial(c)\n",
    "\n",
    "print(\"Support Vector Machine with Polynomial Kernal\")\n",
    "showGraph(c_values, acc_train_svm_poly, 'b', 'training')\n",
    "showGraph(c_values, acc_test_svm_poly, 'r', 'test')"
   ]
  },
  {
   "cell_type": "markdown",
   "metadata": {},
   "source": [
    "You have to repeat the full assignment with 2 more different datasets. You have to write a small report in a pdf file. You can use bullet points to discuss your results for every function of the assignment.\n",
    "For example, for data1.csv dataset, write which method gave you the best accuracy using which value of the parameter.\n",
    "You have to write this for all the 3 datasets in a single pdf file. Do not write explainations, just discuss your results / observations point to point."
   ]
  },
  {
   "cell_type": "code",
   "execution_count": null,
   "metadata": {},
   "outputs": [],
   "source": [
    "data1.csv and all\n",
    "\n",
    "SVM looks the most spread out and should probably be the best?\n",
    "\n"
   ]
  }
 ],
 "metadata": {
  "kernelspec": {
   "display_name": "Python 2",
   "language": "python",
   "name": "python2"
  },
  "language_info": {
   "codemirror_mode": {
    "name": "ipython",
    "version": 2
   },
   "file_extension": ".py",
   "mimetype": "text/x-python",
   "name": "python",
   "nbconvert_exporter": "python",
   "pygments_lexer": "ipython2",
   "version": "2.7.15"
  }
 },
 "nbformat": 4,
 "nbformat_minor": 2
}
