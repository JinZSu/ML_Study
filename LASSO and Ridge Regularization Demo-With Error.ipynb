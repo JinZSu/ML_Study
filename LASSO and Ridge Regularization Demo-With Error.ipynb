{
 "cells": [
  {
   "cell_type": "markdown",
   "metadata": {},
   "source": [
    "# Using SKLEARN's package for performing Ridge and LASSO regression\n",
    "Example adapted from http://www.science.smith.edu/~jcrouser/SDS293/labs/lab10-py.html\n",
    "Please look at this link.\n",
    "\n",
    "In the code below we demonstrate how ridge regression and LASSO regression affect the coefficents.  In this demo, we use the data on diabetes that we discussed in class."
   ]
  },
  {
   "cell_type": "code",
   "execution_count": 1,
   "metadata": {
    "collapsed": true
   },
   "outputs": [],
   "source": [
    "%matplotlib inline\n",
    "\n",
    "import pandas as pd\n",
    "import numpy as np\n",
    "import matplotlib.pyplot as plt\n",
    "\n",
    "from sklearn import datasets # we will load the diabetes dataset\n",
    "\n",
    "from sklearn.preprocessing import scale\n",
    "from sklearn.model_selection import train_test_split\n",
    "from sklearn.linear_model import Ridge, RidgeCV, Lasso, LassoCV\n",
    "from sklearn.metrics import mean_squared_error"
   ]
  },
  {
   "cell_type": "code",
   "execution_count": 2,
   "metadata": {},
   "outputs": [],
   "source": [
    "diabetes = datasets.load_diabetes() # no missing values - so we will omit checking for missing values\n",
    "X = diabetes.data\n",
    "y = diabetes.target\n"
   ]
  },
  {
   "cell_type": "markdown",
   "metadata": {},
   "source": [
    "If we want to estimate how well our algorithm works, we shouldn't use the training data to estimate our out of sample error.\n",
    "\n",
    "Instead we should  divide the data into two sets: training and test.  We fit the model on the training and data and estimate the out of sample error on the test set.\n",
    "\n"
   ]
  },
  {
   "cell_type": "code",
   "execution_count": 3,
   "metadata": {},
   "outputs": [
    {
     "name": "stdout",
     "output_type": "stream",
     "text": [
      "The test data size:  (221, 10) .  The training data size (221, 10)\n"
     ]
    }
   ],
   "source": [
    "# Split data into training and test sets\n",
    "X_train, X_test , y_train, y_test = train_test_split(X, y, test_size=0.5, random_state=2)\n",
    "#In this example we set the parameter test_size=0.5.  This means 1/2 the data will be used as testing data\n",
    "print('The test data size: ', np.shape(X_test),'.  The training data size', np.shape(X_train))"
   ]
  },
  {
   "cell_type": "markdown",
   "metadata": {},
   "source": [
    "# Ridge Regression\n",
    "\n",
    "#### To help you understand ridge regression, we first will show how different values of $\\lambda$ affect the size of the coefficents.  \n",
    "\n",
    "#### Then we show how to find a good choice of $\\lambda$.\n",
    "\n"
   ]
  },
  {
   "cell_type": "markdown",
   "metadata": {},
   "source": [
    "To understand how the hyperparameter $\\lambda$ affects the size of the coefficients, we will run the algorithm with many different choices of $\\lambda$\n",
    "\n",
    "In sklearn, the notation is different than our book's notation. Instead of $\\lambda$ as the hyperparameter name, sklearn uses `alpha`.\n",
    "\n",
    " The code below creates a numpy array of different values to try for $\\lambda = $ `alpha`\n",
    "\n",
    "\n",
    "`np.linspace(a,b,c)` creates a numpy array of c equally spaced items in the range `[a,b]`\n",
    "\n",
    "Below the code creates `alpha` to be a numpy array containing $10^d/2$, where $d$ is a  number created by  `linspace(10,-2,100)`"
   ]
  },
  {
   "cell_type": "code",
   "execution_count": 4,
   "metadata": {},
   "outputs": [
    {
     "data": {
      "text/plain": [
       "array([5.00000000e+09, 3.78231664e+09, 2.86118383e+09, 2.16438064e+09,\n",
       "       1.63727458e+09, 1.23853818e+09, 9.36908711e+08, 7.08737081e+08,\n",
       "       5.36133611e+08, 4.05565415e+08, 3.06795364e+08, 2.32079442e+08,\n",
       "       1.75559587e+08, 1.32804389e+08, 1.00461650e+08, 7.59955541e+07,\n",
       "       5.74878498e+07, 4.34874501e+07, 3.28966612e+07, 2.48851178e+07,\n",
       "       1.88246790e+07, 1.42401793e+07, 1.07721735e+07, 8.14875417e+06,\n",
       "       6.16423370e+06, 4.66301673e+06, 3.52740116e+06, 2.66834962e+06,\n",
       "       2.01850863e+06, 1.52692775e+06, 1.15506485e+06, 8.73764200e+05,\n",
       "       6.60970574e+05, 5.00000000e+05, 3.78231664e+05, 2.86118383e+05,\n",
       "       2.16438064e+05, 1.63727458e+05, 1.23853818e+05, 9.36908711e+04,\n",
       "       7.08737081e+04, 5.36133611e+04, 4.05565415e+04, 3.06795364e+04,\n",
       "       2.32079442e+04, 1.75559587e+04, 1.32804389e+04, 1.00461650e+04,\n",
       "       7.59955541e+03, 5.74878498e+03, 4.34874501e+03, 3.28966612e+03,\n",
       "       2.48851178e+03, 1.88246790e+03, 1.42401793e+03, 1.07721735e+03,\n",
       "       8.14875417e+02, 6.16423370e+02, 4.66301673e+02, 3.52740116e+02,\n",
       "       2.66834962e+02, 2.01850863e+02, 1.52692775e+02, 1.15506485e+02,\n",
       "       8.73764200e+01, 6.60970574e+01, 5.00000000e+01, 3.78231664e+01,\n",
       "       2.86118383e+01, 2.16438064e+01, 1.63727458e+01, 1.23853818e+01,\n",
       "       9.36908711e+00, 7.08737081e+00, 5.36133611e+00, 4.05565415e+00,\n",
       "       3.06795364e+00, 2.32079442e+00, 1.75559587e+00, 1.32804389e+00,\n",
       "       1.00461650e+00, 7.59955541e-01, 5.74878498e-01, 4.34874501e-01,\n",
       "       3.28966612e-01, 2.48851178e-01, 1.88246790e-01, 1.42401793e-01,\n",
       "       1.07721735e-01, 8.14875417e-02, 6.16423370e-02, 4.66301673e-02,\n",
       "       3.52740116e-02, 2.66834962e-02, 2.01850863e-02, 1.52692775e-02,\n",
       "       1.15506485e-02, 8.73764200e-03, 6.60970574e-03, 5.00000000e-03])"
      ]
     },
     "execution_count": 4,
     "metadata": {},
     "output_type": "execute_result"
    }
   ],
   "source": [
    "alphas = 10**np.linspace(10,-2,100)*0.5\n",
    "alphas"
   ]
  },
  {
   "cell_type": "markdown",
   "metadata": {},
   "source": [
    "In the next cell we create a ridge regression object. We then try the ridge regression algorithm with many different choices for the hyperparameter `alpha` (aka $\\lambda$)\n",
    "\n",
    "The ridge regresion object in sklearn has a method to run the ridge regression algorithm called `fit`.  We access the coefficent vector produced by ridge regression algorithm using the attribute `coef_`.  (This attribute does not include the intercept term.)\n",
    "\n",
    "In the code below, the coefficent vector produced by the ridge regression  algorithm for each `alpha` ($\\lambda$) will be saved in  `coefs`."
   ]
  },
  {
   "cell_type": "code",
   "execution_count": 5,
   "metadata": {},
   "outputs": [
    {
     "name": "stdout",
     "output_type": "stream",
     "text": [
      "(100, 10)\n",
      "(100,)\n"
     ]
    }
   ],
   "source": [
    "ridge = Ridge(normalize = True) \n",
    "# normalize = True means \"the regressors X will be normalized   \n",
    "# The normalization will set the mean to 0 and divide by the l2-norm\n",
    "coefs = []  \n",
    "mse = []\n",
    "\n",
    "for a in alphas:\n",
    "    ridge.set_params(alpha = a) # set the hyperparmeter alpha\n",
    "    ridge.fit(X_train, y_train) # run the ridge regression algorithm\n",
    "    coefs.append(ridge.coef_) # store the coefficient vector produced with this choice of alpha\n",
    "    mse.append(mean_squared_error(y_test, ridge.predict(X_test))) # we are also keeping track of the error for each model produced\n",
    "    \n",
    "print(np.shape(coefs)) # This line just checks to make sure things probably worked\n",
    "print(np.shape(mse))"
   ]
  },
  {
   "cell_type": "markdown",
   "metadata": {},
   "source": [
    "To visually observe how different values of `alpha` ( $\\lambda$) affected the size of the coefficents produced by ridge regression algorithm, we plot the coefficients below as a function of the hyperparameter `alpha` ($\\lambda$).\n",
    "\n",
    "Note, in the graph below one color corresponds to weight assigned to one feature as a function of `alpha` ($\\lambda$)"
   ]
  },
  {
   "cell_type": "code",
   "execution_count": 6,
   "metadata": {},
   "outputs": [
    {
     "data": {
      "text/plain": [
       "Text(0,0.5,'mse and weights')"
      ]
     },
     "execution_count": 6,
     "metadata": {},
     "output_type": "execute_result"
    },
    {
     "data": {
      "image/png": "[encoded data removed]",
      "text/plain": [
       "<matplotlib.figure.Figure at 0x1094d3f60>"
      ]
     },
     "metadata": {},
     "output_type": "display_data"
    }
   ],
   "source": [
    "ax = plt.gca()\n",
    "ax.plot(alphas, coefs)\n",
    "ax.set_xscale('log')\n",
    "plt.axis('tight')\n",
    "plt.xlabel('alpha')\n",
    "plt.ylabel('weights')\n",
    "\n",
    "ax = plt.gca()\n",
    "ax.plot(alphas, mse, 'k') # The change of MSE is plotted as the black curve below\n",
    "ax.set_xscale('log')\n",
    "plt.axis('tight')\n",
    "plt.xlabel('alpha')\n",
    "plt.ylabel('mse and weights')"
   ]
  },
  {
   "cell_type": "markdown",
   "metadata": {},
   "source": [
    "We now run the ridge regression algorithm with a single value of `alpha` ($\\lambda$) and compute the error for this value\n"
   ]
  },
  {
   "cell_type": "code",
   "execution_count": 7,
   "metadata": {},
   "outputs": [
    {
     "name": "stdout",
     "output_type": "stream",
     "text": [
      "The coefficients:  0     42.237490\n",
      "1    -73.100239\n",
      "2    209.494551\n",
      "3    164.823049\n",
      "4     47.872000\n",
      "5      0.389126\n",
      "6   -109.957369\n",
      "7    103.279663\n",
      "8    229.645849\n",
      "9     85.261945\n",
      "dtype: float64\n",
      "The test MSE:  3615.412851924988\n"
     ]
    }
   ],
   "source": [
    "ridge2 = Ridge(alpha = 2, normalize = True)\n",
    "ridge2.fit(X_train, y_train)             # Fit a ridge regression on the training data\n",
    "pred2 = ridge2.predict(X_test)           # Use this model to predict the test data\n",
    "print(\"The coefficients: \", pd.Series(ridge2.coef_)) # Print coefficients\n",
    "print(\"The test MSE: \",mean_squared_error(y_test, pred2)) # Calculate the test MSE\n"
   ]
  },
  {
   "cell_type": "markdown",
   "metadata": {},
   "source": [
    "Lets try a different choice of `alpha` ($\\lambda$)"
   ]
  },
  {
   "cell_type": "code",
   "execution_count": 8,
   "metadata": {},
   "outputs": [
    {
     "name": "stdout",
     "output_type": "stream",
     "text": [
      "The coefficients:  0    3.599178\n",
      "1   -0.745193\n",
      "2    9.333601\n",
      "3    7.303540\n",
      "4    4.468217\n",
      "5    3.273716\n",
      "6   -5.529993\n",
      "7    6.902772\n",
      "8    9.790434\n",
      "9    5.627995\n",
      "dtype: float64\n",
      "The test MSE:  5617.4093492670745\n"
     ]
    }
   ],
   "source": [
    "ridge3 = Ridge(alpha = 10**2, normalize = True)\n",
    "ridge3.fit(X_train, y_train)             # Fit a ridge regression on the training data\n",
    "pred3 = ridge3.predict(X_test)           # Use this model to predict the test data\n",
    "print(\"The coefficients: \",pd.Series(ridge3.coef_)) # Print coefficients\n",
    "print(\"The test MSE: \",mean_squared_error(y_test, pred3))    # Calculate the test MSE\n"
   ]
  },
  {
   "cell_type": "markdown",
   "metadata": {},
   "source": [
    "If we wanted no overfit penalty, we can set `alpha` $ = 0 $ (i.e. $\\lambda=0$) "
   ]
  },
  {
   "cell_type": "code",
   "execution_count": 9,
   "metadata": {},
   "outputs": [
    {
     "name": "stdout",
     "output_type": "stream",
     "text": [
      "The coefficients:  0    -36.643422\n",
      "1   -293.739539\n",
      "2    393.338678\n",
      "3    363.908243\n",
      "4     -7.896308\n",
      "5    -72.915303\n",
      "6   -281.272107\n",
      "7    -51.902173\n",
      "8    681.851964\n",
      "9     61.988555\n",
      "dtype: float64\n",
      "The test MSE:  3246.3477725695875\n"
     ]
    }
   ],
   "source": [
    "ridge0 = Ridge(alpha = 0, normalize = True)\n",
    "ridge0.fit(X_train, y_train)             # Fit a ridge regression on the training data\n",
    "pred0 = ridge0.predict(X_test)           # Use this model to predict the test data\n",
    "print(\"The coefficients: \", pd.Series(ridge0.coef_)) # Print coefficients\n",
    "print(\"The test MSE: \",mean_squared_error(y_test, pred0))   # Calculate the test MSE\n"
   ]
  },
  {
   "cell_type": "markdown",
   "metadata": {},
   "source": [
    "To try all the different choices for `alpha` ($\\lambda$) we create above, we can use `RidgeCV`."
   ]
  },
  {
   "cell_type": "code",
   "execution_count": 10,
   "metadata": {},
   "outputs": [
    {
     "data": {
      "text/plain": [
       "0.08148754173103201"
      ]
     },
     "execution_count": 10,
     "metadata": {},
     "output_type": "execute_result"
    }
   ],
   "source": [
    "ridgecv = RidgeCV(alphas = alphas, normalize = True)\n",
    "ridgecv.fit(X_train, y_train) # the default 3-fold cross-validation\n",
    "ridgecv.alpha_ #The best alpha in our numpy array called alpha_"
   ]
  },
  {
   "cell_type": "markdown",
   "metadata": {},
   "source": [
    "Now that we have found the correct value of `alpha` ($\\lambda$), we run the algorithm on the entire training set and test the data on the test set"
   ]
  },
  {
   "cell_type": "code",
   "execution_count": 11,
   "metadata": {},
   "outputs": [
    {
     "data": {
      "text/plain": [
       "3181.721930777545"
      ]
     },
     "execution_count": 11,
     "metadata": {},
     "output_type": "execute_result"
    }
   ],
   "source": [
    "ridge4 = Ridge(alpha = ridgecv.alpha_, normalize = True)\n",
    "ridge4.fit(X_train, y_train)\n",
    "mean_squared_error(y_test, ridge4.predict(X_test))"
   ]
  },
  {
   "cell_type": "markdown",
   "metadata": {},
   "source": [
    "If we run the data on all data we get the following coefficients"
   ]
  },
  {
   "cell_type": "code",
   "execution_count": 12,
   "metadata": {},
   "outputs": [
    {
     "name": "stdout",
     "output_type": "stream",
     "text": [
      "The coefficient: \n",
      "[ -20.3459919  -269.47327928  389.68741337  343.63966227   20.67752553\n",
      " -122.50227928 -228.98413938   51.7393743   589.31413844   68.42179808]\n"
     ]
    }
   ],
   "source": [
    "#ridge4.fit(X_train, y)\n",
    "print('The coefficient: ')\n",
    "print(ridge4.coef_)"
   ]
  },
  {
   "cell_type": "markdown",
   "metadata": {},
   "source": [
    "# LASSO\n",
    "LASSO regression doesn't have a closed form solution.  The algorithm will perform coordinate descent (it is very similar to gradient descent).\n",
    "\n",
    "In the code below, we will show how the different overfit penalties affect the coefficients (similarly to what we did above for ridge regression)."
   ]
  },
  {
   "cell_type": "code",
   "execution_count": 13,
   "metadata": {},
   "outputs": [
    {
     "data": {
      "text/plain": [
       "Text(0,0.5,'weights')"
      ]
     },
     "execution_count": 13,
     "metadata": {},
     "output_type": "execute_result"
    },
    {
     "data": {
      "image/png": "[encoded data removed]",
      "text/plain": [
       "<matplotlib.figure.Figure at 0x1094a45f8>"
      ]
     },
     "metadata": {},
     "output_type": "display_data"
    }
   ],
   "source": [
    "lasso = Lasso(max_iter = 10000, normalize = True)\n",
    "# The default is to set the maximum number of iterations to be 1000.  \n",
    "# To over ride this parameter set the parameter as was done above\n",
    "coefs = []\n",
    "mse = []\n",
    "for a in alphas:\n",
    "    lasso.set_params(alpha=a) # Our instance now uses a different alph\n",
    "    lasso.fit(X_train, y_train) # running the LASSO algorithm\n",
    "    coefs.append(lasso.coef_) # accessing the coefficients produced from fitting the data\n",
    "    mse.append(mean_squared_error(y_test, lasso.predict(X_test)))\n",
    "\n",
    "ax = plt.gca()\n",
    "ax.plot(alphas, coefs)\n",
    "ax.set_xscale('log')\n",
    "plt.xlabel('alpha')\n",
    "plt.ylabel('weights')"
   ]
  },
  {
   "cell_type": "markdown",
   "metadata": {},
   "source": [
    "We can plot the mse and the coefficent on the same plot.  Note the scale has changed."
   ]
  },
  {
   "cell_type": "code",
   "execution_count": 14,
   "metadata": {},
   "outputs": [
    {
     "data": {
      "text/plain": [
       "Text(0,0.5,'mse and weights')"
      ]
     },
     "execution_count": 14,
     "metadata": {},
     "output_type": "execute_result"
    },
    {
     "data": {
      "image/png": "[encoded data removed]",
      "text/plain": [
       "<matplotlib.figure.Figure at 0x10958db00>"
      ]
     },
     "metadata": {},
     "output_type": "display_data"
    }
   ],
   "source": [
    "ax = plt.gca()\n",
    "ax.plot(alphas, mse,'k')\n",
    "ax.plot(alphas, coefs)\n",
    "\n",
    "ax.set_xscale('log')\n",
    "plt.xlabel('alpha')\n",
    "plt.ylabel('mse and weights')"
   ]
  },
  {
   "cell_type": "code",
   "execution_count": 15,
   "metadata": {},
   "outputs": [
    {
     "name": "stdout",
     "output_type": "stream",
     "text": [
      "The best alpha:  0.0767587540106735\n",
      "The test MSE:  3214.7569658297507\n"
     ]
    }
   ],
   "source": [
    "lassocv = LassoCV(alphas = None, cv = 5, max_iter = 300000, normalize = True)\n",
    "#alphas = None \"List of alphas where to compute the models. If None alphas are set automatically\"\n",
    "lassocv.fit(X_train, y_train) # we could predict with this instance.  lassocv.predict(X_new)\n",
    "\n",
    "lasso.set_params(alpha=lassocv.alpha_ ) # Here is how we use LASSO where we set the parameter\n",
    "lasso.fit(X_train, y_train)\n",
    "print('The best alpha: ', lassocv.alpha_ )\n",
    "print('The test MSE: ', mean_squared_error(y_test, lasso.predict(X_test)))"
   ]
  },
  {
   "cell_type": "code",
   "execution_count": 16,
   "metadata": {},
   "outputs": [
    {
     "name": "stdout",
     "output_type": "stream",
     "text": [
      "[  -0.         -256.90522359  395.5837165   335.24402978   -0.\n",
      "  -66.48362415 -229.94062574   -0.          647.04658586   27.00180106]\n"
     ]
    }
   ],
   "source": [
    "# Some of the coefficients are now reduced to exactly zero.\n",
    "print(lasso.coef_)"
   ]
  },
  {
   "cell_type": "code",
   "execution_count": 17,
   "metadata": {},
   "outputs": [
    {
     "name": "stdout",
     "output_type": "stream",
     "text": [
      "155.2101067776533\n"
     ]
    }
   ],
   "source": [
    "print(lasso.intercept_)"
   ]
  },
  {
   "cell_type": "code",
   "execution_count": null,
   "metadata": {
    "collapsed": true
   },
   "outputs": [],
   "source": []
  }
 ],
 "metadata": {
  "kernelspec": {
   "display_name": "Python 2",
   "language": "python",
   "name": "python2"
  },
  "language_info": {
   "codemirror_mode": {
    "name": "ipython",
    "version": 2
   },
   "file_extension": ".py",
   "mimetype": "text/x-python",
   "name": "python",
   "nbconvert_exporter": "python",
   "pygments_lexer": "ipython2",
   "version": "2.7.15"
  }
 },
 "nbformat": 4,
 "nbformat_minor": 2
}
