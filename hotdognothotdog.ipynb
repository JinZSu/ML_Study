{
 "cells": [
  {
   "cell_type": "code",
   "execution_count": 2,
   "metadata": {},
   "outputs": [
    {
     "name": "stderr",
     "output_type": "stream",
     "text": [
      "Using TensorFlow backend.\n"
     ]
    }
   ],
   "source": [
    "import pandas as pd\n",
    "import numpy as np\n",
    "import os\n",
    "import PIL\n",
    "from keras.preprocessing.image import load_img,img_to_array\n",
    "from keras import Model,Sequential\n",
    "from keras.layers import Dense, Conv2D, MaxPooling2D, Dropout, Flatten\n",
    "#conda install -c anaconda keras\n"
   ]
  },
  {
   "cell_type": "code",
   "execution_count": 38,
   "metadata": {},
   "outputs": [
    {
     "name": "stdout",
     "output_type": "stream",
     "text": [
      "['train/hot_dog/1000288.jpg', 'train/hot_dog/1011661.jpg', 'train/hot_dog/1013916.jpg', 'train/hot_dog/1017226.jpg', 'train/hot_dog/1018245.jpg', 'train/hot_dog/1023510.jpg', 'train/hot_dog/1040579.jpg', 'train/hot_dog/1046526.jpg', 'train/hot_dog/1051628.jpg', 'train/hot_dog/1051643.jpg', 'train/hot_dog/1051711.jpg', 'train/hot_dog/1053879.jpg', 'train/hot_dog/1055689.jpg', 'train/hot_dog/1057517.jpg', 'train/hot_dog/1057882.jpg', 'train/hot_dog/1059903.jpg', 'train/hot_dog/1068951.jpg', 'train/hot_dog/1086377.jpg', 'train/hot_dog/1086675.jpg', 'train/hot_dog/1086677.jpg', 'train/hot_dog/1098632.jpg', 'train/hot_dog/1098635.jpg', 'train/hot_dog/1104394.jpg', 'train/hot_dog/1107015.jpg', 'train/hot_dog/1111638.jpg', 'train/hot_dog/1114633.jpg', 'train/hot_dog/1115020.jpg', 'train/hot_dog/1119906.jpg', 'train/hot_dog/1123406.jpg', 'train/hot_dog/1125436.jpg', 'train/hot_dog/1133460.jpg', 'train/hot_dog/1134237.jpg', 'train/hot_dog/1143044.jpg', 'train/hot_dog/1143110.jpg', 'train/hot_dog/1143398.jpg', 'train/hot_dog/1143830.jpg', 'train/hot_dog/1144643.jpg', 'train/hot_dog/1153737.jpg', 'train/hot_dog/115434.jpg', 'train/hot_dog/1154965.jpg', 'train/hot_dog/1159972.jpg', 'train/hot_dog/1161343.jpg', 'train/hot_dog/1161755.jpg', 'train/hot_dog/116486.jpg', 'train/hot_dog/1166403.jpg', 'train/hot_dog/1166929.jpg', 'train/hot_dog/1174926.jpg', 'train/hot_dog/117749.jpg', 'train/hot_dog/1179964.jpg', 'train/hot_dog/1182402.jpg', 'train/hot_dog/1182518.jpg', 'train/hot_dog/1183508.jpg', 'train/hot_dog/1183725.jpg', 'train/hot_dog/1186993.jpg', 'train/hot_dog/118875.jpg', 'train/hot_dog/1190833.jpg', 'train/hot_dog/1192908.jpg', 'train/hot_dog/1195487.jpg', 'train/hot_dog/1195698.jpg', 'train/hot_dog/1195977.jpg', 'train/hot_dog/1204467.jpg', 'train/hot_dog/120471.jpg', 'train/hot_dog/1205205.jpg', 'train/hot_dog/1207811.jpg', 'train/hot_dog/1210977.jpg', 'train/hot_dog/1211682.jpg', 'train/hot_dog/122007.jpg', 'train/hot_dog/1224013.jpg', 'train/hot_dog/122606.jpg', 'train/hot_dog/1226430.jpg', 'train/hot_dog/1226791.jpg', 'train/hot_dog/1233688.jpg', 'train/hot_dog/1234491.jpg', 'train/hot_dog/1236871.jpg', 'train/hot_dog/124323.jpg', 'train/hot_dog/1245977.jpg', 'train/hot_dog/124987.jpg', 'train/hot_dog/1251087.jpg', 'train/hot_dog/1251173.jpg', 'train/hot_dog/1251741.jpg', 'train/hot_dog/125329.jpg', 'train/hot_dog/1265953.jpg', 'train/hot_dog/1267706.jpg', 'train/hot_dog/1268739.jpg', 'train/hot_dog/127117.jpg', 'train/hot_dog/127252.jpg', 'train/hot_dog/1282229.jpg', 'train/hot_dog/1282523.jpg', 'train/hot_dog/129092.jpg', 'train/hot_dog/1301907.jpg', 'train/hot_dog/1308699.jpg', 'train/hot_dog/1308879.jpg', 'train/hot_dog/1313978.jpg', 'train/hot_dog/1322860.jpg', 'train/hot_dog/1335350.jpg', 'train/hot_dog/1336262.jpg', 'train/hot_dog/1344141.jpg', 'train/hot_dog/1344958.jpg', 'train/hot_dog/1352514.jpg', 'train/hot_dog/1361187.jpg', 'train/hot_dog/1361606.jpg', 'train/hot_dog/1363093.jpg', 'train/hot_dog/1364019.jpg', 'train/hot_dog/2417.jpg', 'train/hot_dog/3493406.jpg', 'train/hot_dog/3494550.jpg', 'train/hot_dog/3495622.jpg', 'train/hot_dog/3497633.jpg', 'train/hot_dog/3497634.jpg', 'train/hot_dog/3497635.jpg', 'train/hot_dog/3503584.jpg', 'train/hot_dog/3503720.jpg', 'train/hot_dog/3525466.jpg', 'train/hot_dog/3527149.jpg', 'train/hot_dog/3538750.jpg', 'train/hot_dog/3543293.jpg', 'train/hot_dog/3552463.jpg', 'train/hot_dog/3552499.jpg', 'train/hot_dog/3558578.jpg', 'train/hot_dog/3568139.jpg', 'train/hot_dog/3575940.jpg', 'train/hot_dog/3577428.jpg', 'train/hot_dog/3620891.jpg', 'train/hot_dog/3622018.jpg', 'train/hot_dog/3628132.jpg', 'train/hot_dog/3636192.jpg', 'train/hot_dog/3637190.jpg', 'train/hot_dog/3639855.jpg', 'train/hot_dog/3642871.jpg', 'train/hot_dog/3645373.jpg', 'train/hot_dog/3646755.jpg', 'train/hot_dog/3655069.jpg', 'train/hot_dog/3655420.jpg', 'train/hot_dog/3660087.jpg', 'train/hot_dog/3684539.jpg', 'train/hot_dog/3690.jpg', 'train/hot_dog/3690427.jpg', 'train/hot_dog/3690925.jpg', 'train/hot_dog/3692506.jpg', 'train/hot_dog/3695334.jpg', 'train/hot_dog/3701301.jpg', 'train/hot_dog/3711230.jpg', 'train/hot_dog/3711747.jpg', 'train/hot_dog/3714525.jpg', 'train/hot_dog/3716190.jpg', 'train/hot_dog/3724744.jpg', 'train/hot_dog/3726090.jpg', 'train/hot_dog/3726741.jpg', 'train/hot_dog/3728106.jpg', 'train/hot_dog/3730066.jpg', 'train/hot_dog/3733563.jpg', 'train/hot_dog/3733809.jpg', 'train/hot_dog/3736382.jpg', 'train/hot_dog/3742819.jpg', 'train/hot_dog/3742960.jpg', 'train/hot_dog/3746979.jpg', 'train/hot_dog/3748381.jpg', 'train/hot_dog/3750744.jpg', 'train/hot_dog/3753950.jpg', 'train/hot_dog/3758438.jpg', 'train/hot_dog/3760604.jpg', 'train/hot_dog/3763491.jpg', 'train/hot_dog/3764724.jpg', 'train/hot_dog/3765729.jpg', 'train/hot_dog/3778004.jpg', 'train/hot_dog/3782895.jpg', 'train/hot_dog/3784903.jpg', 'train/hot_dog/3789403.jpg', 'train/hot_dog/3789737.jpg', 'train/hot_dog/3798465.jpg', 'train/hot_dog/3802333.jpg', 'train/hot_dog/3811761.jpg', 'train/hot_dog/3814644.jpg', 'train/hot_dog/3835641.jpg', 'train/hot_dog/3838014.jpg', 'train/hot_dog/3840582.jpg', 'train/hot_dog/3842701.jpg', 'train/hot_dog/3843212.jpg', 'train/hot_dog/3844876.jpg', 'train/hot_dog/3846249.jpg', 'train/hot_dog/3847258.jpg', 'train/hot_dog/3847289.jpg', 'train/hot_dog/3852193.jpg', 'train/hot_dog/3859916.jpg', 'train/hot_dog/3860703.jpg', 'train/hot_dog/3861791.jpg', 'train/hot_dog/3864679.jpg', 'train/hot_dog/3867396.jpg', 'train/hot_dog/3870911.jpg', 'train/hot_dog/3872613.jpg', 'train/hot_dog/3872738.jpg', 'train/hot_dog/3878668.jpg', 'train/hot_dog/3884328.jpg', 'train/hot_dog/3901819.jpg', 'train/hot_dog/3902792.jpg', 'train/hot_dog/3904556.jpg', 'train/hot_dog/3905030.jpg', 'train/hot_dog/3905238.jpg', 'train/hot_dog/3911675.jpg', 'train/hot_dog/3912870.jpg', 'train/hot_dog/3915296.jpg', 'train/hot_dog/3918223.jpg', 'train/hot_dog/5079.jpg', 'train/hot_dog/76722.jpg', 'train/hot_dog/7896.jpg', 'train/hot_dog/853994.jpg', 'train/hot_dog/856178.jpg', 'train/hot_dog/857110.jpg', 'train/hot_dog/864518.jpg', 'train/hot_dog/865184.jpg', 'train/hot_dog/867751.jpg', 'train/hot_dog/867991.jpg', 'train/hot_dog/869853.jpg', 'train/hot_dog/884796.jpg', 'train/hot_dog/888267.jpg', 'train/hot_dog/891949.jpg', 'train/hot_dog/893274.jpg', 'train/hot_dog/893996.jpg', 'train/hot_dog/898576.jpg', 'train/hot_dog/907088.jpg', 'train/hot_dog/910098.jpg', 'train/hot_dog/910827.jpg', 'train/hot_dog/916396.jpg', 'train/hot_dog/917699.jpg', 'train/hot_dog/920993.jpg', 'train/hot_dog/923240.jpg', 'train/hot_dog/926070.jpg', 'train/hot_dog/930181.jpg', 'train/hot_dog/930190.jpg', 'train/hot_dog/935952.jpg', 'train/hot_dog/938937.jpg', 'train/hot_dog/940404.jpg', 'train/hot_dog/941035.jpg', 'train/hot_dog/950384.jpg', 'train/hot_dog/950413.jpg', 'train/hot_dog/951103.jpg', 'train/hot_dog/952378.jpg', 'train/hot_dog/956229.jpg', 'train/hot_dog/958900.jpg', 'train/hot_dog/959883.jpg', 'train/hot_dog/961367.jpg', 'train/hot_dog/971944.jpg', 'train/hot_dog/974520.jpg', 'train/hot_dog/978158.jpg', 'train/hot_dog/978455.jpg', 'train/hot_dog/979767.jpg', 'train/hot_dog/987144.jpg', 'train/hot_dog/987193.jpg', 'train/hot_dog/996310.jpg', 'train/not_hot_dog/100135.jpg', 'train/not_hot_dog/100148.jpg', 'train/not_hot_dog/100274.jpg', 'train/not_hot_dog/100945.jpg', 'train/not_hot_dog/101312.jpg', 'train/not_hot_dog/102037.jpg', 'train/not_hot_dog/102197.jpg', 'train/not_hot_dog/102813.jpg', 'train/not_hot_dog/103010.jpg', 'train/not_hot_dog/105375.jpg', 'train/not_hot_dog/105647.jpg', 'train/not_hot_dog/106608.jpg', 'train/not_hot_dog/107013.jpg', 'train/not_hot_dog/107216.jpg', 'train/not_hot_dog/107312.jpg', 'train/not_hot_dog/107816.jpg', 'train/not_hot_dog/108310.jpg', 'train/not_hot_dog/108743.jpg', 'train/not_hot_dog/109401.jpg', 'train/not_hot_dog/109926.jpg', 'train/not_hot_dog/110171.jpg', 'train/not_hot_dog/110385.jpg', 'train/not_hot_dog/112309.jpg', 'train/not_hot_dog/113605.jpg', 'train/not_hot_dog/114269.jpg', 'train/not_hot_dog/114601.jpg', 'train/not_hot_dog/1164.jpg', 'train/not_hot_dog/1167.jpg', 'train/not_hot_dog/117282.jpg', 'train/not_hot_dog/118378.jpg', 'train/not_hot_dog/123902.jpg', 'train/not_hot_dog/123929.jpg', 'train/not_hot_dog/124128.jpg', 'train/not_hot_dog/126345.jpg', 'train/not_hot_dog/126784.jpg', 'train/not_hot_dog/127029.jpg', 'train/not_hot_dog/129045.jpg', 'train/not_hot_dog/129050.jpg', 'train/not_hot_dog/129730.jpg', 'train/not_hot_dog/130384.jpg', 'train/not_hot_dog/130766.jpg', 'train/not_hot_dog/134369.jpg', 'train/not_hot_dog/134598.jpg', 'train/not_hot_dog/136985.jpg', 'train/not_hot_dog/138514.jpg', 'train/not_hot_dog/138754.jpg', 'train/not_hot_dog/139291.jpg', 'train/not_hot_dog/140292.jpg', 'train/not_hot_dog/140832.jpg', 'train/not_hot_dog/141320.jpg', 'train/not_hot_dog/143158.jpg', 'train/not_hot_dog/143685.jpg', 'train/not_hot_dog/143994.jpg', 'train/not_hot_dog/145012.jpg', 'train/not_hot_dog/146029.jpg', 'train/not_hot_dog/146910.jpg', 'train/not_hot_dog/147312.jpg', 'train/not_hot_dog/147558.jpg', 'train/not_hot_dog/147599.jpg', 'train/not_hot_dog/147628.jpg', 'train/not_hot_dog/149278.jpg', 'train/not_hot_dog/152498.jpg', 'train/not_hot_dog/153387.jpg', 'train/not_hot_dog/153648.jpg', 'train/not_hot_dog/153823.jpg', 'train/not_hot_dog/157282.jpg', 'train/not_hot_dog/159745.jpg', 'train/not_hot_dog/160301.jpg', 'train/not_hot_dog/160494.jpg', 'train/not_hot_dog/160611.jpg', 'train/not_hot_dog/161122.jpg', 'train/not_hot_dog/163153.jpg', 'train/not_hot_dog/164288.jpg', 'train/not_hot_dog/166217.jpg', 'train/not_hot_dog/166821.jpg', 'train/not_hot_dog/167022.jpg', 'train/not_hot_dog/168924.jpg', 'train/not_hot_dog/172042.jpg', 'train/not_hot_dog/172593.jpg', 'train/not_hot_dog/173241.jpg', 'train/not_hot_dog/174045.jpg', 'train/not_hot_dog/174977.jpg', 'train/not_hot_dog/176667.jpg', 'train/not_hot_dog/177372.jpg', 'train/not_hot_dog/178804.jpg', 'train/not_hot_dog/179038.jpg', 'train/not_hot_dog/180453.jpg', 'train/not_hot_dog/181579.jpg', 'train/not_hot_dog/181677.jpg', 'train/not_hot_dog/182516.jpg', 'train/not_hot_dog/182658.jpg', 'train/not_hot_dog/183313.jpg', 'train/not_hot_dog/184954.jpg', 'train/not_hot_dog/185190.jpg', 'train/not_hot_dog/187087.jpg', 'train/not_hot_dog/188505.jpg', 'train/not_hot_dog/189482.jpg', 'train/not_hot_dog/189787.jpg', 'train/not_hot_dog/191085.jpg', 'train/not_hot_dog/191302.jpg', 'train/not_hot_dog/192132.jpg', 'train/not_hot_dog/192632.jpg', 'train/not_hot_dog/194973.jpg', 'train/not_hot_dog/197.jpg', 'train/not_hot_dog/198099.jpg', 'train/not_hot_dog/198445.jpg', 'train/not_hot_dog/200168.jpg', 'train/not_hot_dog/200448.jpg', 'train/not_hot_dog/200553.jpg', 'train/not_hot_dog/200639.jpg', 'train/not_hot_dog/201362.jpg', 'train/not_hot_dog/202247.jpg', 'train/not_hot_dog/203613.jpg', 'train/not_hot_dog/203924.jpg', 'train/not_hot_dog/204100.jpg', 'train/not_hot_dog/204132.jpg', 'train/not_hot_dog/204169.jpg', 'train/not_hot_dog/206271.jpg', 'train/not_hot_dog/211949.jpg', 'train/not_hot_dog/211973.jpg', 'train/not_hot_dog/212348.jpg', 'train/not_hot_dog/213387.jpg', 'train/not_hot_dog/215927.jpg', 'train/not_hot_dog/215931.jpg', 'train/not_hot_dog/217445.jpg', 'train/not_hot_dog/217607.jpg', 'train/not_hot_dog/219778.jpg', 'train/not_hot_dog/222138.jpg', 'train/not_hot_dog/222586.jpg', 'train/not_hot_dog/223676.jpg', 'train/not_hot_dog/223944.jpg', 'train/not_hot_dog/225525.jpg', 'train/not_hot_dog/225804.jpg', 'train/not_hot_dog/230015.jpg', 'train/not_hot_dog/232844.jpg', 'train/not_hot_dog/233172.jpg', 'train/not_hot_dog/234706.jpg', 'train/not_hot_dog/236973.jpg', 'train/not_hot_dog/238410.jpg', 'train/not_hot_dog/239724.jpg', 'train/not_hot_dog/240760.jpg', 'train/not_hot_dog/244006.jpg', 'train/not_hot_dog/244609.jpg', 'train/not_hot_dog/246510.jpg', 'train/not_hot_dog/249430.jpg', 'train/not_hot_dog/250720.jpg', 'train/not_hot_dog/251128.jpg', 'train/not_hot_dog/256347.jpg', 'train/not_hot_dog/258877.jpg', 'train/not_hot_dog/262882.jpg', 'train/not_hot_dog/265743.jpg', 'train/not_hot_dog/266364.jpg', 'train/not_hot_dog/267713.jpg', 'train/not_hot_dog/270122.jpg', 'train/not_hot_dog/274368.jpg', 'train/not_hot_dog/274711.jpg', 'train/not_hot_dog/275673.jpg', 'train/not_hot_dog/284999.jpg', 'train/not_hot_dog/289256.jpg', 'train/not_hot_dog/290229.jpg', 'train/not_hot_dog/290382.jpg', 'train/not_hot_dog/291636.jpg', 'train/not_hot_dog/292607.jpg', 'train/not_hot_dog/293052.jpg', 'train/not_hot_dog/296039.jpg', 'train/not_hot_dog/296611.jpg', 'train/not_hot_dog/302329.jpg', 'train/not_hot_dog/303460.jpg', 'train/not_hot_dog/303809.jpg', 'train/not_hot_dog/309651.jpg', 'train/not_hot_dog/311779.jpg', 'train/not_hot_dog/319830.jpg', 'train/not_hot_dog/320734.jpg', 'train/not_hot_dog/322067.jpg', 'train/not_hot_dog/331674.jpg', 'train/not_hot_dog/333385.jpg', 'train/not_hot_dog/338101.jpg', 'train/not_hot_dog/4176.jpg', 'train/not_hot_dog/4770.jpg', 'train/not_hot_dog/4781.jpg', 'train/not_hot_dog/4889.jpg', 'train/not_hot_dog/5762.jpg', 'train/not_hot_dog/5764.jpg', 'train/not_hot_dog/5813.jpg', 'train/not_hot_dog/6021.jpg', 'train/not_hot_dog/6127.jpg', 'train/not_hot_dog/748088.jpg', 'train/not_hot_dog/749374.jpg', 'train/not_hot_dog/759160.jpg', 'train/not_hot_dog/765053.jpg', 'train/not_hot_dog/766638.jpg', 'train/not_hot_dog/768793.jpg', 'train/not_hot_dog/769437.jpg', 'train/not_hot_dog/776077.jpg', 'train/not_hot_dog/779193.jpg', 'train/not_hot_dog/781137.jpg', 'train/not_hot_dog/784510.jpg', 'train/not_hot_dog/790763.jpg', 'train/not_hot_dog/791662.jpg', 'train/not_hot_dog/796326.jpg', 'train/not_hot_dog/797686.jpg', 'train/not_hot_dog/801827.jpg', 'train/not_hot_dog/803895.jpg', 'train/not_hot_dog/807258.jpg', 'train/not_hot_dog/815394.jpg', 'train/not_hot_dog/816725.jpg', 'train/not_hot_dog/816756.jpg', 'train/not_hot_dog/817533.jpg', 'train/not_hot_dog/822411.jpg', 'train/not_hot_dog/823536.jpg', 'train/not_hot_dog/824157.jpg', 'train/not_hot_dog/828189.jpg', 'train/not_hot_dog/835998.jpg', 'train/not_hot_dog/837058.jpg', 'train/not_hot_dog/846311.jpg', 'train/not_hot_dog/89197.jpg', 'train/not_hot_dog/89502.jpg', 'train/not_hot_dog/89892.jpg', 'train/not_hot_dog/89974.jpg', 'train/not_hot_dog/90116.jpg', 'train/not_hot_dog/90167.jpg', 'train/not_hot_dog/90481.jpg', 'train/not_hot_dog/90923.jpg', 'train/not_hot_dog/90930.jpg', 'train/not_hot_dog/90989.jpg', 'train/not_hot_dog/91432.jpg', 'train/not_hot_dog/91708.jpg', 'train/not_hot_dog/92128.jpg', 'train/not_hot_dog/92235.jpg', 'train/not_hot_dog/92331.jpg', 'train/not_hot_dog/93653.jpg', 'train/not_hot_dog/93961.jpg', 'train/not_hot_dog/94215.jpg', 'train/not_hot_dog/95565.jpg', 'train/not_hot_dog/95572.jpg', 'train/not_hot_dog/96213.jpg', 'train/not_hot_dog/96357.jpg', 'train/not_hot_dog/96524.jpg', 'train/not_hot_dog/96935.jpg', 'train/not_hot_dog/97656.jpg', 'train/not_hot_dog/98607.jpg', 'train/not_hot_dog/98617.jpg', 'train/not_hot_dog/98675.jpg', 'train/not_hot_dog/99010.jpg', 'train/not_hot_dog/99136.jpg', 'train/not_hot_dog/99201.jpg', 'train/not_hot_dog/99604.jpg', 'train/not_hot_dog/99890.jpg', 'train/not_hot_dog/99934.jpg']\n",
      "['test/hot_dog/133012.jpg', 'test/hot_dog/133015.jpg', 'test/hot_dog/133245.jpg', 'test/hot_dog/135628.jpg', 'test/hot_dog/138933.jpg', 'test/hot_dog/138937.jpg', 'test/hot_dog/138969.jpg', 'test/hot_dog/139177.jpg', 'test/hot_dog/142835.jpg', 'test/hot_dog/143012.jpg', 'test/hot_dog/144956.jpg', 'test/hot_dog/146227.jpg', 'test/hot_dog/146834.jpg', 'test/hot_dog/147874.jpg', 'test/hot_dog/152106.jpg', 'test/hot_dog/154409.jpg', 'test/hot_dog/154545.jpg', 'test/hot_dog/156126.jpg', 'test/hot_dog/156135.jpg', 'test/hot_dog/160274.jpg', 'test/hot_dog/160523.jpg', 'test/hot_dog/161911.jpg', 'test/hot_dog/165005.jpg', 'test/hot_dog/170212.jpg', 'test/hot_dog/170452.jpg', 'test/hot_dog/171607.jpg', 'test/hot_dog/171875.jpg', 'test/hot_dog/173995.jpg', 'test/hot_dog/180961.jpg', 'test/hot_dog/183400.jpg', 'test/hot_dog/189511.jpg', 'test/hot_dog/190809.jpg', 'test/hot_dog/193755.jpg', 'test/hot_dog/195251.jpg', 'test/hot_dog/197257.jpg', 'test/hot_dog/198641.jpg', 'test/hot_dog/200438.jpg', 'test/hot_dog/201986.jpg', 'test/hot_dog/206995.jpg', 'test/hot_dog/207291.jpg', 'test/hot_dog/207335.jpg', 'test/hot_dog/209306.jpg', 'test/hot_dog/210271.jpg', 'test/hot_dog/210861.jpg', 'test/hot_dog/211824.jpg', 'test/hot_dog/212515.jpg', 'test/hot_dog/219273.jpg', 'test/hot_dog/219922.jpg', 'test/hot_dog/224850.jpg', 'test/hot_dog/225367.jpg', 'test/hot_dog/233179.jpg', 'test/hot_dog/238581.jpg', 'test/hot_dog/248122.jpg', 'test/hot_dog/250715.jpg', 'test/hot_dog/259058.jpg', 'test/hot_dog/259418.jpg', 'test/hot_dog/264487.jpg', 'test/hot_dog/267629.jpg', 'test/hot_dog/267988.jpg', 'test/hot_dog/268919.jpg', 'test/hot_dog/282294.jpg', 'test/hot_dog/285214.jpg', 'test/hot_dog/287752.jpg', 'test/hot_dog/289042.jpg', 'test/hot_dog/289472.jpg', 'test/hot_dog/291354.jpg', 'test/hot_dog/292683.jpg', 'test/hot_dog/295307.jpg', 'test/hot_dog/298744.jpg', 'test/hot_dog/298757.jpg', 'test/hot_dog/300150.jpg', 'test/hot_dog/302949.jpg', 'test/hot_dog/306950.jpg', 'test/hot_dog/307557.jpg', 'test/hot_dog/307874.jpg', 'test/hot_dog/315220.jpg', 'test/hot_dog/315602.jpg', 'test/hot_dog/315747.jpg', 'test/hot_dog/316636.jpg', 'test/hot_dog/317564.jpg', 'test/hot_dog/319114.jpg', 'test/hot_dog/324480.jpg', 'test/hot_dog/324507.jpg', 'test/hot_dog/327851.jpg', 'test/hot_dog/332886.jpg', 'test/hot_dog/335113.jpg', 'test/hot_dog/336873.jpg', 'test/hot_dog/337987.jpg', 'test/hot_dog/343270.jpg', 'test/hot_dog/345704.jpg', 'test/hot_dog/349375.jpg', 'test/hot_dog/352638.jpg', 'test/hot_dog/365524.jpg', 'test/hot_dog/370167.jpg', 'test/hot_dog/371082.jpg', 'test/hot_dog/373020.jpg', 'test/hot_dog/373912.jpg', 'test/hot_dog/377852.jpg', 'test/hot_dog/379311.jpg', 'test/hot_dog/380645.jpg', 'test/hot_dog/380963.jpg', 'test/hot_dog/382188.jpg', 'test/hot_dog/388733.jpg', 'test/hot_dog/388827.jpg', 'test/hot_dog/391898.jpg', 'test/hot_dog/393123.jpg', 'test/hot_dog/397071.jpg', 'test/hot_dog/397466.jpg', 'test/hot_dog/397696.jpg', 'test/hot_dog/398941.jpg', 'test/hot_dog/400228.jpg', 'test/hot_dog/403561.jpg', 'test/hot_dog/408504.jpg', 'test/hot_dog/409435.jpg', 'test/hot_dog/410713.jpg', 'test/hot_dog/413426.jpg', 'test/hot_dog/413825.jpg', 'test/hot_dog/415744.jpg', 'test/hot_dog/417155.jpg', 'test/hot_dog/419255.jpg', 'test/hot_dog/422730.jpg', 'test/hot_dog/423659.jpg', 'test/hot_dog/424960.jpg', 'test/hot_dog/439441.jpg', 'test/hot_dog/445366.jpg', 'test/hot_dog/453463.jpg', 'test/hot_dog/456751.jpg', 'test/hot_dog/458164.jpg', 'test/hot_dog/461937.jpg', 'test/hot_dog/462004.jpg', 'test/hot_dog/471340.jpg', 'test/hot_dog/480916.jpg', 'test/hot_dog/485835.jpg', 'test/hot_dog/486658.jpg', 'test/hot_dog/489624.jpg', 'test/hot_dog/493727.jpg', 'test/hot_dog/498141.jpg', 'test/hot_dog/500768.jpg', 'test/hot_dog/500771.jpg', 'test/hot_dog/502977.jpg', 'test/hot_dog/505563.jpg', 'test/hot_dog/505584.jpg', 'test/hot_dog/510674.jpg', 'test/hot_dog/510955.jpg', 'test/hot_dog/514482.jpg', 'test/hot_dog/518867.jpg', 'test/hot_dog/520065.jpg', 'test/hot_dog/520905.jpg', 'test/hot_dog/527074.jpg', 'test/hot_dog/527633.jpg', 'test/hot_dog/528022.jpg', 'test/hot_dog/530316.jpg', 'test/hot_dog/531567.jpg', 'test/hot_dog/533172.jpg', 'test/hot_dog/533521.jpg', 'test/hot_dog/537584.jpg', 'test/hot_dog/544416.jpg', 'test/hot_dog/547307.jpg', 'test/hot_dog/547312.jpg', 'test/hot_dog/550512.jpg', 'test/hot_dog/551784.jpg', 'test/hot_dog/554307.jpg', 'test/hot_dog/558890.jpg', 'test/hot_dog/561681.jpg', 'test/hot_dog/564558.jpg', 'test/hot_dog/566784.jpg', 'test/hot_dog/566965.jpg', 'test/hot_dog/570799.jpg', 'test/hot_dog/571081.jpg', 'test/hot_dog/573731.jpg', 'test/hot_dog/574379.jpg', 'test/hot_dog/576265.jpg', 'test/hot_dog/580378.jpg', 'test/hot_dog/581166.jpg', 'test/hot_dog/583811.jpg', 'test/hot_dog/588881.jpg', 'test/hot_dog/591179.jpg', 'test/hot_dog/593867.jpg', 'test/hot_dog/595636.jpg', 'test/hot_dog/595968.jpg', 'test/hot_dog/599728.jpg', 'test/hot_dog/602204.jpg', 'test/hot_dog/604245.jpg', 'test/hot_dog/607287.jpg', 'test/hot_dog/607289.jpg', 'test/hot_dog/608168.jpg', 'test/hot_dog/612440.jpg', 'test/hot_dog/618167.jpg', 'test/hot_dog/619671.jpg', 'test/hot_dog/623958.jpg', 'test/hot_dog/628106.jpg', 'test/hot_dog/632174.jpg', 'test/hot_dog/634232.jpg', 'test/hot_dog/635712.jpg', 'test/hot_dog/635715.jpg', 'test/hot_dog/640478.jpg', 'test/hot_dog/642331.jpg', 'test/hot_dog/646412.jpg', 'test/hot_dog/650514.jpg', 'test/hot_dog/651101.jpg', 'test/hot_dog/652826.jpg', 'test/hot_dog/654831.jpg', 'test/hot_dog/665987.jpg', 'test/hot_dog/667655.jpg', 'test/hot_dog/677481.jpg', 'test/hot_dog/679424.jpg', 'test/hot_dog/690320.jpg', 'test/hot_dog/690327.jpg', 'test/hot_dog/691952.jpg', 'test/hot_dog/697073.jpg', 'test/hot_dog/697329.jpg', 'test/hot_dog/701201.jpg', 'test/hot_dog/701763.jpg', 'test/hot_dog/703550.jpg', 'test/hot_dog/704107.jpg', 'test/hot_dog/704826.jpg', 'test/hot_dog/707784.jpg', 'test/hot_dog/716049.jpg', 'test/hot_dog/717652.jpg', 'test/hot_dog/718939.jpg', 'test/hot_dog/723890.jpg', 'test/hot_dog/724711.jpg', 'test/hot_dog/728442.jpg', 'test/hot_dog/731744.jpg', 'test/hot_dog/739229.jpg', 'test/hot_dog/741637.jpg', 'test/hot_dog/741652.jpg', 'test/hot_dog/745739.jpg', 'test/hot_dog/745741.jpg', 'test/hot_dog/752871.jpg', 'test/hot_dog/756061.jpg', 'test/hot_dog/760045.jpg', 'test/hot_dog/762910.jpg', 'test/hot_dog/784362.jpg', 'test/hot_dog/800992.jpg', 'test/hot_dog/803307.jpg', 'test/hot_dog/805852.jpg', 'test/hot_dog/807265.jpg', 'test/hot_dog/807481.jpg', 'test/hot_dog/815805.jpg', 'test/hot_dog/818233.jpg', 'test/hot_dog/824342.jpg', 'test/hot_dog/826706.jpg', 'test/hot_dog/829968.jpg', 'test/hot_dog/838604.jpg', 'test/hot_dog/839783.jpg', 'test/hot_dog/840832.jpg', 'test/hot_dog/840839.jpg', 'test/hot_dog/841980.jpg', 'test/hot_dog/842474.jpg', 'test/not_hot_dog/13023.jpg', 'test/not_hot_dog/13080.jpg', 'test/not_hot_dog/13719.jpg', 'test/not_hot_dog/13983.jpg', 'test/not_hot_dog/14142.jpg', 'test/not_hot_dog/14484.jpg', 'test/not_hot_dog/15420.jpg', 'test/not_hot_dog/15580.jpg', 'test/not_hot_dog/15787.jpg', 'test/not_hot_dog/15933.jpg', 'test/not_hot_dog/17304.jpg', 'test/not_hot_dog/17394.jpg', 'test/not_hot_dog/17688.jpg', 'test/not_hot_dog/17969.jpg', 'test/not_hot_dog/18985.jpg', 'test/not_hot_dog/19143.jpg', 'test/not_hot_dog/19487.jpg', 'test/not_hot_dog/20087.jpg', 'test/not_hot_dog/20215.jpg', 'test/not_hot_dog/20532.jpg', 'test/not_hot_dog/20627.jpg', 'test/not_hot_dog/20777.jpg', 'test/not_hot_dog/20787.jpg', 'test/not_hot_dog/20797.jpg', 'test/not_hot_dog/20983.jpg', 'test/not_hot_dog/21327.jpg', 'test/not_hot_dog/21440.jpg', 'test/not_hot_dog/22080.jpg', 'test/not_hot_dog/22489.jpg', 'test/not_hot_dog/22777.jpg', 'test/not_hot_dog/23184.jpg', 'test/not_hot_dog/23199.jpg', 'test/not_hot_dog/23601.jpg', 'test/not_hot_dog/23739.jpg', 'test/not_hot_dog/24145.jpg', 'test/not_hot_dog/24159.jpg', 'test/not_hot_dog/24479.jpg', 'test/not_hot_dog/24656.jpg', 'test/not_hot_dog/24844.jpg', 'test/not_hot_dog/25026.jpg', 'test/not_hot_dog/25414.jpg', 'test/not_hot_dog/25784.jpg', 'test/not_hot_dog/26078.jpg', 'test/not_hot_dog/26279.jpg', 'test/not_hot_dog/26489.jpg', 'test/not_hot_dog/27330.jpg', 'test/not_hot_dog/27410.jpg', 'test/not_hot_dog/27415.jpg', 'test/not_hot_dog/27963.jpg', 'test/not_hot_dog/28387.jpg', 'test/not_hot_dog/28783.jpg', 'test/not_hot_dog/28996.jpg', 'test/not_hot_dog/29204.jpg', 'test/not_hot_dog/29417.jpg', 'test/not_hot_dog/29869.jpg', 'test/not_hot_dog/30395.jpg', 'test/not_hot_dog/30731.jpg', 'test/not_hot_dog/30892.jpg', 'test/not_hot_dog/31881.jpg', 'test/not_hot_dog/32004.jpg', 'test/not_hot_dog/32199.jpg', 'test/not_hot_dog/32556.jpg', 'test/not_hot_dog/32666.jpg', 'test/not_hot_dog/32693.jpg', 'test/not_hot_dog/33259.jpg', 'test/not_hot_dog/33485.jpg', 'test/not_hot_dog/33783.jpg', 'test/not_hot_dog/34632.jpg', 'test/not_hot_dog/34793.jpg', 'test/not_hot_dog/35133.jpg', 'test/not_hot_dog/35235.jpg', 'test/not_hot_dog/35430.jpg', 'test/not_hot_dog/36042.jpg', 'test/not_hot_dog/36081.jpg', 'test/not_hot_dog/36147.jpg', 'test/not_hot_dog/36370.jpg', 'test/not_hot_dog/37384.jpg', 'test/not_hot_dog/37565.jpg', 'test/not_hot_dog/37649.jpg', 'test/not_hot_dog/38337.jpg', 'test/not_hot_dog/38349.jpg', 'test/not_hot_dog/38442.jpg', 'test/not_hot_dog/38615.jpg', 'test/not_hot_dog/38768.jpg', 'test/not_hot_dog/39461.jpg', 'test/not_hot_dog/40094.jpg', 'test/not_hot_dog/40231.jpg', 'test/not_hot_dog/40449.jpg', 'test/not_hot_dog/40762.jpg', 'test/not_hot_dog/40944.jpg', 'test/not_hot_dog/40947.jpg', 'test/not_hot_dog/41693.jpg', 'test/not_hot_dog/42125.jpg', 'test/not_hot_dog/42252.jpg', 'test/not_hot_dog/42487.jpg', 'test/not_hot_dog/42609.jpg', 'test/not_hot_dog/42954.jpg', 'test/not_hot_dog/43376.jpg', 'test/not_hot_dog/43636.jpg', 'test/not_hot_dog/43886.jpg', 'test/not_hot_dog/43924.jpg', 'test/not_hot_dog/44035.jpg', 'test/not_hot_dog/44449.jpg', 'test/not_hot_dog/44578.jpg', 'test/not_hot_dog/44810.jpg', 'test/not_hot_dog/44859.jpg', 'test/not_hot_dog/45035.jpg', 'test/not_hot_dog/45059.jpg', 'test/not_hot_dog/45200.jpg', 'test/not_hot_dog/45817.jpg', 'test/not_hot_dog/45896.jpg', 'test/not_hot_dog/46246.jpg', 'test/not_hot_dog/46325.jpg', 'test/not_hot_dog/46401.jpg', 'test/not_hot_dog/47115.jpg', 'test/not_hot_dog/47388.jpg', 'test/not_hot_dog/47909.jpg', 'test/not_hot_dog/48052.jpg', 'test/not_hot_dog/48073.jpg', 'test/not_hot_dog/48151.jpg', 'test/not_hot_dog/48208.jpg', 'test/not_hot_dog/48506.jpg', 'test/not_hot_dog/48840.jpg', 'test/not_hot_dog/49803.jpg', 'test/not_hot_dog/50193.jpg', 'test/not_hot_dog/50277.jpg', 'test/not_hot_dog/51368.jpg', 'test/not_hot_dog/51481.jpg', 'test/not_hot_dog/51533.jpg', 'test/not_hot_dog/51678.jpg', 'test/not_hot_dog/52510.jpg', 'test/not_hot_dog/52934.jpg', 'test/not_hot_dog/53217.jpg', 'test/not_hot_dog/53233.jpg', 'test/not_hot_dog/53393.jpg', 'test/not_hot_dog/53758.jpg', 'test/not_hot_dog/54252.jpg', 'test/not_hot_dog/54461.jpg', 'test/not_hot_dog/54529.jpg', 'test/not_hot_dog/54540.jpg', 'test/not_hot_dog/54685.jpg', 'test/not_hot_dog/55601.jpg', 'test/not_hot_dog/55639.jpg', 'test/not_hot_dog/56240.jpg', 'test/not_hot_dog/56337.jpg', 'test/not_hot_dog/56409.jpg', 'test/not_hot_dog/56449.jpg', 'test/not_hot_dog/57594.jpg', 'test/not_hot_dog/58448.jpg', 'test/not_hot_dog/58787.jpg', 'test/not_hot_dog/58856.jpg', 'test/not_hot_dog/59144.jpg', 'test/not_hot_dog/59445.jpg', 'test/not_hot_dog/59497.jpg', 'test/not_hot_dog/59675.jpg', 'test/not_hot_dog/60069.jpg', 'test/not_hot_dog/60207.jpg', 'test/not_hot_dog/60306.jpg', 'test/not_hot_dog/60633.jpg', 'test/not_hot_dog/60655.jpg', 'test/not_hot_dog/60819.jpg', 'test/not_hot_dog/60844.jpg', 'test/not_hot_dog/61656.jpg', 'test/not_hot_dog/61822.jpg', 'test/not_hot_dog/62084.jpg', 'test/not_hot_dog/6229.jpg', 'test/not_hot_dog/62484.jpg', 'test/not_hot_dog/6261.jpg', 'test/not_hot_dog/62622.jpg', 'test/not_hot_dog/62663.jpg', 'test/not_hot_dog/63099.jpg', 'test/not_hot_dog/63480.jpg', 'test/not_hot_dog/63878.jpg', 'test/not_hot_dog/63947.jpg', 'test/not_hot_dog/64906.jpg', 'test/not_hot_dog/64960.jpg', 'test/not_hot_dog/65097.jpg', 'test/not_hot_dog/65128.jpg', 'test/not_hot_dog/65608.jpg', 'test/not_hot_dog/65685.jpg', 'test/not_hot_dog/66183.jpg', 'test/not_hot_dog/66207.jpg', 'test/not_hot_dog/66533.jpg', 'test/not_hot_dog/66858.jpg', 'test/not_hot_dog/6709.jpg', 'test/not_hot_dog/68684.jpg', 'test/not_hot_dog/6926.jpg', 'test/not_hot_dog/69328.jpg', 'test/not_hot_dog/69414.jpg', 'test/not_hot_dog/69564.jpg', 'test/not_hot_dog/69645.jpg', 'test/not_hot_dog/70218.jpg', 'test/not_hot_dog/70456.jpg', 'test/not_hot_dog/7056.jpg', 'test/not_hot_dog/71511.jpg', 'test/not_hot_dog/71701.jpg', 'test/not_hot_dog/71719.jpg', 'test/not_hot_dog/72090.jpg', 'test/not_hot_dog/72716.jpg', 'test/not_hot_dog/73697.jpg', 'test/not_hot_dog/7394.jpg', 'test/not_hot_dog/75537.jpg', 'test/not_hot_dog/75638.jpg', 'test/not_hot_dog/76021.jpg', 'test/not_hot_dog/76061.jpg', 'test/not_hot_dog/76271.jpg', 'test/not_hot_dog/76464.jpg', 'test/not_hot_dog/76466.jpg', 'test/not_hot_dog/77677.jpg', 'test/not_hot_dog/78171.jpg', 'test/not_hot_dog/7847.jpg', 'test/not_hot_dog/79489.jpg', 'test/not_hot_dog/80190.jpg', 'test/not_hot_dog/80215.jpg', 'test/not_hot_dog/80315.jpg', 'test/not_hot_dog/80750.jpg', 'test/not_hot_dog/80865.jpg', 'test/not_hot_dog/80887.jpg', 'test/not_hot_dog/8119.jpg', 'test/not_hot_dog/81332.jpg', 'test/not_hot_dog/81543.jpg', 'test/not_hot_dog/81779.jpg', 'test/not_hot_dog/81939.jpg', 'test/not_hot_dog/82274.jpg', 'test/not_hot_dog/82535.jpg', 'test/not_hot_dog/82578.jpg', 'test/not_hot_dog/82772.jpg', 'test/not_hot_dog/82946.jpg', 'test/not_hot_dog/83053.jpg', 'test/not_hot_dog/8350.jpg', 'test/not_hot_dog/83538.jpg', 'test/not_hot_dog/85375.jpg', 'test/not_hot_dog/85398.jpg', 'test/not_hot_dog/85452.jpg', 'test/not_hot_dog/85514.jpg', 'test/not_hot_dog/86180.jpg', 'test/not_hot_dog/86528.jpg', 'test/not_hot_dog/86782.jpg', 'test/not_hot_dog/86812.jpg', 'test/not_hot_dog/87020.jpg', 'test/not_hot_dog/87125.jpg', 'test/not_hot_dog/87246.jpg', 'test/not_hot_dog/88158.jpg', 'test/not_hot_dog/89027.jpg', 'test/not_hot_dog/8917.jpg', 'test/not_hot_dog/8984.jpg', 'test/not_hot_dog/9053.jpg', 'test/not_hot_dog/9547.jpg', 'test/not_hot_dog/9555.jpg', 'test/not_hot_dog/9657.jpg']\n"
     ]
    }
   ],
   "source": [
    "import os\n",
    "classes=[np.array([1,0]),np.array([0,1])]\n",
    "\n",
    "\n",
    "hot_dog_image_dir = 'train/hot_dog/'\n",
    "hot_dog_paths = [''.join(hot_dog_image_dir+filename) for filename in \n",
    "                            os.listdir(hot_dog_image_dir)]\n",
    "\n",
    "not_hot_dog_image_dir = 'train/not_hot_dog/'\n",
    "not_hot_dog_paths = [''.join(not_hot_dog_image_dir+filename) for filename in\n",
    "                            os.listdir(not_hot_dog_image_dir)]\n",
    "\n",
    "image_paths_train = hot_dog_paths + not_hot_dog_paths\n",
    "y_dog=np.ones((len(hot_dog_paths),1),dtype=int)\n",
    "y_not=np.zeros((len(not_hot_dog_paths),1),dtype=int)\n",
    "y_train=np.concatenate((y_dog, y_not), axis=0)\n",
    "print(image_paths_train)\n",
    "# print(y_train)\n",
    "\n",
    "###############################################################################################################\n",
    "hot_dog_image_dir_test = 'test/hot_dog/'\n",
    "hot_dog_paths_test = [''.join(hot_dog_image_dir_test+filename) for filename in \n",
    "                            os.listdir(hot_dog_image_dir_test)]\n",
    "\n",
    "not_hot_dog_image_dir_test = 'test/not_hot_dog/'\n",
    "not_hot_dog_paths_test = [''.join(not_hot_dog_image_dir_test+filename) for filename in\n",
    "                            os.listdir(not_hot_dog_image_dir_test)]\n",
    "\n",
    "image_paths_test = hot_dog_paths_test + not_hot_dog_paths_test\n",
    "y_dog_test=np.ones((len(hot_dog_paths_test),1),dtype=int)\n",
    "y_dog_not=np.zeros((len(not_hot_dog_paths_test),1),dtype=int)\n",
    "y_test=np.concatenate((y_dog_test, y_dog_not), axis=0)\n",
    "print(image_paths_test)\n",
    "# print(y_test)\n",
    "# print(y_test.shape)"
   ]
  },
  {
   "cell_type": "code",
   "execution_count": 23,
   "metadata": {},
   "outputs": [],
   "source": [
    "def loadpath(image_paths,xsize=16,ysize=16):\n",
    "    X=[]\n",
    "    input_shape=-1\n",
    "    for location in image_paths:\n",
    "        img=load_img(location,target_size=(xsize,ysize))\n",
    "        sx=img_to_array(img) #(512, 382, 3)\n",
    "#         print(x.shape)\n",
    "        if(input_shape==-1):  #input_shape needs to be 3 dimension, kernel will add in the fourth by itself WOAHHH\n",
    "            input_shape=sx.shape\n",
    "        sx=sx.reshape((1,)+sx.shape) #(1, 512, 382, 3)\n",
    "#         print(sx.shape)\n",
    "#         print(sx)\n",
    "        if(X==[]):\n",
    "            X=sx\n",
    "        else:\n",
    "            np.append(X, sx)\n",
    "            \n",
    "    print(input_shape)\n",
    "    return input_shape,X"
   ]
  },
  {
   "cell_type": "code",
   "execution_count": 34,
   "metadata": {},
   "outputs": [
    {
     "name": "stderr",
     "output_type": "stream",
     "text": [
      "C:\\Users\\RDT\\Anaconda2\\envs\\tensorflow_gpuenv\\lib\\site-packages\\ipykernel_launcher.py:13: DeprecationWarning: elementwise == comparison failed; this will raise an error in the future.\n",
      "  del sys.path[0]\n"
     ]
    },
    {
     "name": "stdout",
     "output_type": "stream",
     "text": [
      "(16, 16, 3)\n",
      "(16, 16, 3)\n"
     ]
    }
   ],
   "source": [
    "input_shape,x_train=loadpath(image_paths_train)\n",
    "input_shape,x_test=loadpath(image_paths_test)"
   ]
  },
  {
   "cell_type": "code",
   "execution_count": 123,
   "metadata": {},
   "outputs": [],
   "source": [
    "# from keras.preprocessing.image import ImageDataGenerator\n",
    "\n",
    "# def weirdfilters(x,num_gen,ImageDataGenerator(\n",
    "#             rotation_range=40,\n",
    "#             width_shift_range=0.2,\n",
    "#             height_shift_range=0.2,\n",
    "#             rescale=1./255,\n",
    "#             shear_range=0.2,\n",
    "#             zoom_range=0.2,\n",
    "#             horizontal_flip=True,\n",
    "#             fill_mode='nearest')\n",
    "                 \n",
    "                 \n",
    "#     datagen = ImageDataGenerator(\n",
    "#             rotation_range=40,\n",
    "#             width_shift_range=0.2,\n",
    "#             height_shift_range=0.2,\n",
    "#             rescale=1./255,\n",
    "#             shear_range=0.2,\n",
    "#             zoom_range=0.2,\n",
    "#             horizontal_flip=True,\n",
    "#             fill_mode='nearest')\n",
    "#     count=0\n",
    "#     while(count!=x):\n",
    "#         count+=1\n",
    "#         datagen.flow(x,batch_size=1,save_to_dir'preview',save_prefix='cat',save_format='jpeg')\n",
    "        \n",
    "    \n",
    "        \n",
    "#     return datagen"
   ]
  },
  {
   "cell_type": "code",
   "execution_count": 149,
   "metadata": {},
   "outputs": [
    {
     "ename": "NameError",
     "evalue": "name 'Squential' is not defined",
     "output_type": "error",
     "traceback": [
      "\u001b[0;31m---------------------------------------------------------------------------\u001b[0m",
      "\u001b[0;31mNameError\u001b[0m                                 Traceback (most recent call last)",
      "\u001b[0;32m<ipython-input-149-1384e1f5bad9>\u001b[0m in \u001b[0;36m<module>\u001b[0;34m()\u001b[0m\n\u001b[1;32m      3\u001b[0m \u001b[0;31m# Misleading model1\u001b[0m\u001b[0;34m\u001b[0m\u001b[0;34m\u001b[0m\u001b[0m\n\u001b[1;32m      4\u001b[0m \u001b[0;34m\u001b[0m\u001b[0m\n\u001b[0;32m----> 5\u001b[0;31m \u001b[0mM0\u001b[0m \u001b[0;34m=\u001b[0m \u001b[0mSquential\u001b[0m\u001b[0;34m(\u001b[0m\u001b[0;34m)\u001b[0m\u001b[0;34m\u001b[0m\u001b[0m\n\u001b[0m\u001b[1;32m      6\u001b[0m \u001b[0;34m\u001b[0m\u001b[0m\n\u001b[1;32m      7\u001b[0m \u001b[0mM0\u001b[0m\u001b[0;34m.\u001b[0m\u001b[0madd\u001b[0m\u001b[0;34m(\u001b[0m\u001b[0mMaxPooling\u001b[0m\u001b[0;34m)\u001b[0m\u001b[0;34m\u001b[0m\u001b[0m\n",
      "\u001b[0;31mNameError\u001b[0m: name 'Squential' is not defined"
     ]
    }
   ],
   "source": [
    "from keras import Model,Sequential\n",
    "from keras.layers import Dense, Conv2D, MaxPooling2D, Dropout, Flatten, MaxPooling1D\n",
    "# Misleading model1\n",
    "\n",
    "M0 = Sequential()\n",
    "\n",
    "M0.add(MaxPooling1D(pool_size=(3,3)))\n",
    "\n"
   ]
  },
  {
   "cell_type": "code",
   "execution_count": 20,
   "metadata": {
    "scrolled": true
   },
   "outputs": [
    {
     "name": "stdout",
     "output_type": "stream",
     "text": [
      "(1, 16, 16, 3) (498, 1)\n",
      "_________________________________________________________________\n",
      "Layer (type)                 Output Shape              Param #   \n",
      "=================================================================\n",
      "conv2d_3 (Conv2D)            (None, 14, 14, 32)        896       \n",
      "_________________________________________________________________\n",
      "conv2d_4 (Conv2D)            (None, 12, 12, 64)        18496     \n",
      "_________________________________________________________________\n",
      "max_pooling2d_2 (MaxPooling2 (None, 4, 4, 64)          0         \n",
      "_________________________________________________________________\n",
      "flatten_2 (Flatten)          (None, 1024)              0         \n",
      "_________________________________________________________________\n",
      "dense_3 (Dense)              (None, 128)               131200    \n",
      "_________________________________________________________________\n",
      "dense_4 (Dense)              (None, 1)                 129       \n",
      "=================================================================\n",
      "Total params: 150,721\n",
      "Trainable params: 150,721\n",
      "Non-trainable params: 0\n",
      "_________________________________________________________________\n"
     ]
    }
   ],
   "source": [
    "from keras import Model,Sequential\n",
    "from keras.layers import Dense, Conv2D, MaxPooling2D, Dropout, Flatten\n",
    "# Basic model1\n",
    "\n",
    "print(x_train.shape,y_train.shape)\n",
    "\n",
    "M1 = Sequential()\n",
    "\n",
    "M1.add(Conv2D(32, kernel_size=(3, 3),activation='relu',input_shape=input_shape))\n",
    "\n",
    "M1.add(Conv2D(64, (3, 3), activation='relu'))\n",
    "\n",
    "M1.add(MaxPooling2D(pool_size=(3, 3)))\n",
    "\n",
    "M1.add(Flatten())\n",
    "\n",
    "M1.add(Dense(128, activation='relu'))\n",
    "\n",
    "M1.add(Dense(1, activation='sigmoid'))\n",
    "\n",
    "M1.summary()\n"
   ]
  },
  {
   "cell_type": "code",
   "execution_count": 15,
   "metadata": {},
   "outputs": [],
   "source": [
    "class LossHistory(keras.callbacks.Callback):\n",
    "    def on_train_begin(self, logs={}):\n",
    "        self.loss = []\n",
    "        self.val_acc = []\n",
    "        self.acc = []\n",
    "        \n",
    "    def on_batch_end(self, batch, logs={}):\n",
    "        self.loss.append(logs.get('loss'))\n",
    "        \n",
    "    def on_epoch_end(self, epoch, logs):\n",
    "        self.val_acc.append(logs.get('val_acc'))\n",
    "        self.acc.append(logs.get('acc'))\n",
    "\n",
    "history_cb = LossHistory()"
   ]
  },
  {
   "cell_type": "code",
   "execution_count": 39,
   "metadata": {},
   "outputs": [
    {
     "ename": "ValueError",
     "evalue": "Input arrays should have the same number of samples as target arrays. Found 1 input samples and 498 target samples.",
     "output_type": "error",
     "traceback": [
      "\u001b[1;31m---------------------------------------------------------------------------\u001b[0m",
      "\u001b[1;31mValueError\u001b[0m                                Traceback (most recent call last)",
      "\u001b[1;32m<ipython-input-39-0b8382ea8a02>\u001b[0m in \u001b[0;36m<module>\u001b[1;34m\u001b[0m\n\u001b[0;32m      4\u001b[0m \u001b[0mM1\u001b[0m\u001b[1;33m.\u001b[0m\u001b[0mcompile\u001b[0m\u001b[1;33m(\u001b[0m\u001b[0mloss\u001b[0m\u001b[1;33m=\u001b[0m\u001b[1;34m'categorical_crossentropy'\u001b[0m\u001b[1;33m,\u001b[0m\u001b[0moptimizer\u001b[0m\u001b[1;33m=\u001b[0m\u001b[0mkeras\u001b[0m\u001b[1;33m.\u001b[0m\u001b[0moptimizers\u001b[0m\u001b[1;33m.\u001b[0m\u001b[0mAdadelta\u001b[0m\u001b[1;33m(\u001b[0m\u001b[0mlr\u001b[0m\u001b[1;33m=\u001b[0m\u001b[1;36m0.01\u001b[0m\u001b[1;33m)\u001b[0m\u001b[1;33m,\u001b[0m\u001b[0mmetrics\u001b[0m\u001b[1;33m=\u001b[0m\u001b[1;33m[\u001b[0m\u001b[1;34m'accuracy'\u001b[0m\u001b[1;33m]\u001b[0m\u001b[1;33m)\u001b[0m\u001b[1;33m\u001b[0m\u001b[1;33m\u001b[0m\u001b[0m\n\u001b[0;32m      5\u001b[0m \u001b[1;33m\u001b[0m\u001b[0m\n\u001b[1;32m----> 6\u001b[1;33m \u001b[0mM1\u001b[0m\u001b[1;33m.\u001b[0m\u001b[0mfit\u001b[0m\u001b[1;33m(\u001b[0m\u001b[0mx_train\u001b[0m\u001b[1;33m,\u001b[0m \u001b[0my_train\u001b[0m\u001b[1;33m,\u001b[0m\u001b[0mbatch_size\u001b[0m\u001b[1;33m=\u001b[0m\u001b[0mbatch_size\u001b[0m\u001b[1;33m,\u001b[0m\u001b[0mepochs\u001b[0m\u001b[1;33m=\u001b[0m\u001b[0mepochs\u001b[0m\u001b[1;33m,\u001b[0m\u001b[0mverbose\u001b[0m\u001b[1;33m=\u001b[0m\u001b[1;36m1\u001b[0m\u001b[1;33m,\u001b[0m\u001b[0mvalidation_data\u001b[0m\u001b[1;33m=\u001b[0m\u001b[1;33m(\u001b[0m\u001b[0mx_test\u001b[0m\u001b[1;33m,\u001b[0m \u001b[0my_test\u001b[0m\u001b[1;33m)\u001b[0m\u001b[1;33m,\u001b[0m\u001b[0mcallbacks\u001b[0m\u001b[1;33m=\u001b[0m\u001b[1;33m[\u001b[0m\u001b[0mhistory_cb\u001b[0m\u001b[1;33m]\u001b[0m\u001b[1;33m)\u001b[0m\u001b[1;33m\u001b[0m\u001b[1;33m\u001b[0m\u001b[0m\n\u001b[0m\u001b[0;32m      7\u001b[0m \u001b[1;33m\u001b[0m\u001b[0m\n\u001b[0;32m      8\u001b[0m \u001b[0mscore\u001b[0m \u001b[1;33m=\u001b[0m \u001b[0mmodel\u001b[0m\u001b[1;33m.\u001b[0m\u001b[0mevaluate\u001b[0m\u001b[1;33m(\u001b[0m\u001b[0mx_test\u001b[0m\u001b[1;33m,\u001b[0m \u001b[0my_test\u001b[0m\u001b[1;33m,\u001b[0m \u001b[0mverbose\u001b[0m\u001b[1;33m=\u001b[0m\u001b[1;36m0\u001b[0m\u001b[1;33m)\u001b[0m\u001b[1;33m\u001b[0m\u001b[1;33m\u001b[0m\u001b[0m\n",
      "\u001b[1;32m~\\Anaconda2\\envs\\tensorflow_gpuenv\\lib\\site-packages\\keras\\engine\\training.py\u001b[0m in \u001b[0;36mfit\u001b[1;34m(self, x, y, batch_size, epochs, verbose, callbacks, validation_split, validation_data, shuffle, class_weight, sample_weight, initial_epoch, steps_per_epoch, validation_steps, **kwargs)\u001b[0m\n\u001b[0;32m    950\u001b[0m             \u001b[0msample_weight\u001b[0m\u001b[1;33m=\u001b[0m\u001b[0msample_weight\u001b[0m\u001b[1;33m,\u001b[0m\u001b[1;33m\u001b[0m\u001b[1;33m\u001b[0m\u001b[0m\n\u001b[0;32m    951\u001b[0m             \u001b[0mclass_weight\u001b[0m\u001b[1;33m=\u001b[0m\u001b[0mclass_weight\u001b[0m\u001b[1;33m,\u001b[0m\u001b[1;33m\u001b[0m\u001b[1;33m\u001b[0m\u001b[0m\n\u001b[1;32m--> 952\u001b[1;33m             batch_size=batch_size)\n\u001b[0m\u001b[0;32m    953\u001b[0m         \u001b[1;31m# Prepare validation data.\u001b[0m\u001b[1;33m\u001b[0m\u001b[1;33m\u001b[0m\u001b[1;33m\u001b[0m\u001b[0m\n\u001b[0;32m    954\u001b[0m         \u001b[0mdo_validation\u001b[0m \u001b[1;33m=\u001b[0m \u001b[1;32mFalse\u001b[0m\u001b[1;33m\u001b[0m\u001b[1;33m\u001b[0m\u001b[0m\n",
      "\u001b[1;32m~\\Anaconda2\\envs\\tensorflow_gpuenv\\lib\\site-packages\\keras\\engine\\training.py\u001b[0m in \u001b[0;36m_standardize_user_data\u001b[1;34m(self, x, y, sample_weight, class_weight, check_array_lengths, batch_size)\u001b[0m\n\u001b[0;32m    802\u001b[0m             ]\n\u001b[0;32m    803\u001b[0m             \u001b[1;31m# Check that all arrays have the same length.\u001b[0m\u001b[1;33m\u001b[0m\u001b[1;33m\u001b[0m\u001b[1;33m\u001b[0m\u001b[0m\n\u001b[1;32m--> 804\u001b[1;33m             \u001b[0mcheck_array_length_consistency\u001b[0m\u001b[1;33m(\u001b[0m\u001b[0mx\u001b[0m\u001b[1;33m,\u001b[0m \u001b[0my\u001b[0m\u001b[1;33m,\u001b[0m \u001b[0msample_weights\u001b[0m\u001b[1;33m)\u001b[0m\u001b[1;33m\u001b[0m\u001b[1;33m\u001b[0m\u001b[0m\n\u001b[0m\u001b[0;32m    805\u001b[0m             \u001b[1;32mif\u001b[0m \u001b[0mself\u001b[0m\u001b[1;33m.\u001b[0m\u001b[0m_is_graph_network\u001b[0m\u001b[1;33m:\u001b[0m\u001b[1;33m\u001b[0m\u001b[1;33m\u001b[0m\u001b[0m\n\u001b[0;32m    806\u001b[0m                 \u001b[1;31m# Additional checks to avoid users mistakenly\u001b[0m\u001b[1;33m\u001b[0m\u001b[1;33m\u001b[0m\u001b[1;33m\u001b[0m\u001b[0m\n",
      "\u001b[1;32m~\\Anaconda2\\envs\\tensorflow_gpuenv\\lib\\site-packages\\keras\\engine\\training_utils.py\u001b[0m in \u001b[0;36mcheck_array_length_consistency\u001b[1;34m(inputs, targets, weights)\u001b[0m\n\u001b[0;32m    235\u001b[0m                          \u001b[1;34m'the same number of samples as target arrays. '\u001b[0m\u001b[1;33m\u001b[0m\u001b[1;33m\u001b[0m\u001b[0m\n\u001b[0;32m    236\u001b[0m                          \u001b[1;34m'Found '\u001b[0m \u001b[1;33m+\u001b[0m \u001b[0mstr\u001b[0m\u001b[1;33m(\u001b[0m\u001b[0mlist\u001b[0m\u001b[1;33m(\u001b[0m\u001b[0mset_x\u001b[0m\u001b[1;33m)\u001b[0m\u001b[1;33m[\u001b[0m\u001b[1;36m0\u001b[0m\u001b[1;33m]\u001b[0m\u001b[1;33m)\u001b[0m \u001b[1;33m+\u001b[0m \u001b[1;34m' input samples '\u001b[0m\u001b[1;33m\u001b[0m\u001b[1;33m\u001b[0m\u001b[0m\n\u001b[1;32m--> 237\u001b[1;33m                          'and ' + str(list(set_y)[0]) + ' target samples.')\n\u001b[0m\u001b[0;32m    238\u001b[0m     \u001b[1;32mif\u001b[0m \u001b[0mlen\u001b[0m\u001b[1;33m(\u001b[0m\u001b[0mset_w\u001b[0m\u001b[1;33m)\u001b[0m \u001b[1;33m>\u001b[0m \u001b[1;36m1\u001b[0m\u001b[1;33m:\u001b[0m\u001b[1;33m\u001b[0m\u001b[1;33m\u001b[0m\u001b[0m\n\u001b[0;32m    239\u001b[0m         raise ValueError('All sample_weight arrays should have '\n",
      "\u001b[1;31mValueError\u001b[0m: Input arrays should have the same number of samples as target arrays. Found 1 input samples and 498 target samples."
     ]
    }
   ],
   "source": [
    "import keras\n",
    "batch_size=12\n",
    "epochs=1\n",
    "M1.compile(loss='categorical_crossentropy',optimizer=keras.optimizers.Adadelta(lr=0.01),metrics=['accuracy'])\n",
    "\n",
    "M1.fit(x_train, y_train,batch_size=batch_size,epochs=epochs,verbose=1,validation_data=(x_test, y_test),callbacks=[history_cb])\n",
    "\n",
    "score = model.evaluate(x_test, y_test, verbose=0)\n",
    "\n",
    "print('Test loss:', score[0])\n",
    "print('Test accuracy:', score[1])"
   ]
  },
  {
   "cell_type": "code",
   "execution_count": 42,
   "metadata": {},
   "outputs": [
    {
     "name": "stdout",
     "output_type": "stream",
     "text": [
      "(1, 16, 16, 3)\n",
      "(498, 1)\n"
     ]
    }
   ],
   "source": [
    "print(x_train.shape)\n",
    "print(y_train.shape)"
   ]
  },
  {
   "cell_type": "code",
   "execution_count": null,
   "metadata": {},
   "outputs": [],
   "source": []
  }
 ],
 "metadata": {
  "kernelspec": {
   "display_name": "Python 3",
   "language": "python",
   "name": "python3"
  },
  "language_info": {
   "codemirror_mode": {
    "name": "ipython",
    "version": 3
   },
   "file_extension": ".py",
   "mimetype": "text/x-python",
   "name": "python",
   "nbconvert_exporter": "python",
   "pygments_lexer": "ipython3",
   "version": "3.6.7"
  }
 },
 "nbformat": 4,
 "nbformat_minor": 2
}
